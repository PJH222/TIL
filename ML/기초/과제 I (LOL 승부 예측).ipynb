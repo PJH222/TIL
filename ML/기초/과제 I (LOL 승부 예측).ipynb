{
 "cells": [
  {
   "cell_type": "markdown",
   "id": "4f7535a5-99f8-462e-bde8-f1cba24aba1e",
   "metadata": {},
   "source": [
    "https://blog.naver.com/PostView.naver?blogId=siniphia&logNo=221396370872\n",
    "\n",
    "# train_test_split() 사용법"
   ]
  },
  {
   "cell_type": "code",
   "execution_count": 2,
   "id": "203e5ee3-f4ad-4e70-89d3-af0022482214",
   "metadata": {},
   "outputs": [
    {
     "ename": "SyntaxError",
     "evalue": "invalid syntax (565970872.py, line 3)",
     "output_type": "error",
     "traceback": [
      "\u001b[1;36m  Cell \u001b[1;32mIn[2], line 3\u001b[1;36m\u001b[0m\n\u001b[1;33m    train_test_split(arrays, test_size, train_size, random_state, shuffle, stratif)e\u001b[0m\n\u001b[1;37m                                                                                   ^\u001b[0m\n\u001b[1;31mSyntaxError\u001b[0m\u001b[1;31m:\u001b[0m invalid syntax\n"
     ]
    }
   ],
   "source": [
    "from sklearn.model_selection import train_test_split\r",
    "#  \n",
    "train_test_split(arrays, test_size, train_size, random_state, shuffle, stratif)e"
   ]
  },
  {
   "cell_type": "markdown",
   "id": "01069a46-1123-4db4-9e1b-f6b59fd76930",
   "metadata": {},
   "source": [
    "(1) Parameter\r\n",
    "\r\n",
    "arrays : 분할시킬 데이터를 입력 (Python list, Numpy array, Pandas dataframe 등..)\r\n",
    "\r\n",
    "test_size : 테스트 데이터셋의 비율(float)이나 갯수(int) (default = 0.25)\r\n",
    "\r\n",
    "train_size : 학습 데이터셋의 비율(float)이나 갯수(int) (default = test_size의 나머지)\r\n",
    "\r\n",
    "random_state : 데이터 분할시 셔플이 이루어지는데 이를 위한 시드값 (int나 RandomState로 입력)\r\n",
    "\r\n",
    "shuffle : 셔플여부설정 (default = True)\r\n",
    "\r\n",
    "stratify : 지정한 Data의 비율을 유지한다. 예를 들어, Label Set인 Y가 25%의 0과 75%의 1로 이루어진 Binary Set일 때, stratify=Y로 설정하면 나누어진 데이터셋들도 0과 1을 각각 25%, 75%로 유지한 채 분할된다.\r\n",
    "\r\n",
    "​\r\n",
    "\r\n",
    "(2) Return\r\n",
    "\r\n",
    "X_train, X_test, Y_train, Y_test : arrays에 데이터와 레이블을 둘 다 넣었을 경우의 반환이며, 데이터와 레이블의 순서쌍은 유지된다.\r\n",
    "\r\n",
    "X_train, X_test : arrays에 레이블 없이 데이터만 넣었을 경우의 반환\r\n",
    "[출처] [Python] sklearn의 train_test_split() 사용법|작성자 Paris Lee"
   ]
  },
  {
   "cell_type": "markdown",
   "id": "92a500db-92ad-4059-85ac-a8234ece2838",
   "metadata": {},
   "source": [
    "### Example"
   ]
  },
  {
   "cell_type": "code",
   "execution_count": 12,
   "id": "450377fe-9dbc-4594-ba70-2b7285ec1e22",
   "metadata": {},
   "outputs": [],
   "source": [
    "import numpy as np\n",
    "from sklearn.model_selection import train_test_split\n",
    "\n",
    "X = [[0,1],[2,3],[4,5],[6,7],[8,9]]\n",
    "Y = [0,1,2,3,4]\n",
    "\n",
    "# 데이터(X)만 넣었을 경우\n",
    "X_train, X_test = train_test_split(X, test_size=0.2, random_state=123)\n",
    "# X_train : [[0,1],[6,7],[8,9],[2,3]]\n",
    "# X_test : [[4,5]]\n",
    "\n",
    "# 데이터(X)와 레이블(Y)을 넣었을 경우\n",
    "X_train, X_test, Y_train, Y_test = train_test_split(X, Y, test_size=0.33, random_state=321)\n",
    "# X_train : [[4,5],[0,1],[6,7]]\n",
    "# Y_train : [2,0,3]\n",
    "# X_test : [[2,3],[8,9]]\n",
    "# Y_test : [1,4]\n"
   ]
  },
  {
   "cell_type": "markdown",
   "id": "7af3baab-5862-4132-9d8c-c2d1f096d4e5",
   "metadata": {},
   "source": [
    "### 대충 어떤 형태로 데이터가 만들어지는지를 보자...\n",
    "#### !pip install scikit-learn (설치좀 해라~~)"
   ]
  },
  {
   "cell_type": "code",
   "execution_count": null,
   "id": "c86dee9f-0a13-4e07-b33d-c9350949fcf2",
   "metadata": {},
   "outputs": [],
   "source": []
  }
 ],
 "metadata": {
  "kernelspec": {
   "display_name": "Python 3 (ipykernel)",
   "language": "python",
   "name": "python3"
  },
  "language_info": {
   "codemirror_mode": {
    "name": "ipython",
    "version": 3
   },
   "file_extension": ".py",
   "mimetype": "text/x-python",
   "name": "python",
   "nbconvert_exporter": "python",
   "pygments_lexer": "ipython3",
   "version": "3.12.2"
  }
 },
 "nbformat": 4,
 "nbformat_minor": 5
}
