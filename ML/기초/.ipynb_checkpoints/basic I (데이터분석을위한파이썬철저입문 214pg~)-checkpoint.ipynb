{
 "cells": [
  {
   "cell_type": "markdown",
   "id": "1b3c78f7-1fea-4ce6-b55c-20f5a8e328c9",
   "metadata": {},
   "source": [
    "# Series와 DataFrame의 차이는?\n",
    "### 기본적으로 시리즈는 1차원 배열, 데이터프레임은 2차원 배열 혹은 행과 열이 있는 2차원 데이터 구조이다."
   ]
  },
  {
   "cell_type": "code",
   "execution_count": 6,
   "id": "aa5da4c0-352d-4f6d-8b4c-e22e811f72ef",
   "metadata": {},
   "outputs": [
    {
     "data": {
      "text/plain": [
       "{'year': [2015, 2016, 2017, 2018, 2018],\n",
       " 'nation': ['ko', 'ko', 'us', 'ja', 'ch'],\n",
       " 'customer_number': [200, 250, 300, 250, 400]}"
      ]
     },
     "execution_count": 6,
     "metadata": {},
     "output_type": "execute_result"
    }
   ],
   "source": [
    "# 데이터프레임 만들기 기초\n",
    "\n",
    "import pandas as pd\n",
    "\n",
    "table_data = {\"year\" : [2015,2016,2017,2018,2018],\n",
    "              \"nation\" : ['ko','ko','us','ja','ch'],\n",
    "              \"customer_number\" : [200,250,300,250,400]}\n",
    "table_data"
   ]
  },
  {
   "cell_type": "code",
   "execution_count": 11,
   "id": "6cee5e2a-0326-40ff-bfe5-33c059e61cd8",
   "metadata": {},
   "outputs": [
    {
     "data": {
      "text/html": [
       "<div>\n",
       "<style scoped>\n",
       "    .dataframe tbody tr th:only-of-type {\n",
       "        vertical-align: middle;\n",
       "    }\n",
       "\n",
       "    .dataframe tbody tr th {\n",
       "        vertical-align: top;\n",
       "    }\n",
       "\n",
       "    .dataframe thead th {\n",
       "        text-align: right;\n",
       "    }\n",
       "</style>\n",
       "<table border=\"1\" class=\"dataframe\">\n",
       "  <thead>\n",
       "    <tr style=\"text-align: right;\">\n",
       "      <th></th>\n",
       "      <th>year</th>\n",
       "      <th>nation</th>\n",
       "      <th>customer_number</th>\n",
       "    </tr>\n",
       "  </thead>\n",
       "  <tbody>\n",
       "    <tr>\n",
       "      <th>0</th>\n",
       "      <td>2015</td>\n",
       "      <td>ko</td>\n",
       "      <td>200</td>\n",
       "    </tr>\n",
       "    <tr>\n",
       "      <th>1</th>\n",
       "      <td>2016</td>\n",
       "      <td>ko</td>\n",
       "      <td>250</td>\n",
       "    </tr>\n",
       "    <tr>\n",
       "      <th>2</th>\n",
       "      <td>2017</td>\n",
       "      <td>us</td>\n",
       "      <td>300</td>\n",
       "    </tr>\n",
       "    <tr>\n",
       "      <th>3</th>\n",
       "      <td>2018</td>\n",
       "      <td>ja</td>\n",
       "      <td>250</td>\n",
       "    </tr>\n",
       "    <tr>\n",
       "      <th>4</th>\n",
       "      <td>2018</td>\n",
       "      <td>ch</td>\n",
       "      <td>400</td>\n",
       "    </tr>\n",
       "  </tbody>\n",
       "</table>\n",
       "</div>"
      ],
      "text/plain": [
       "   year nation  customer_number\n",
       "0  2015     ko              200\n",
       "1  2016     ko              250\n",
       "2  2017     us              300\n",
       "3  2018     ja              250\n",
       "4  2018     ch              400"
      ]
     },
     "execution_count": 11,
     "metadata": {},
     "output_type": "execute_result"
    }
   ],
   "source": [
    "df = pd.DataFrame(table_data) # Dataframe 생성\n",
    "df"
   ]
  },
  {
   "cell_type": "code",
   "execution_count": 18,
   "id": "4df420d1-3b52-4205-8bf9-0297b9b4b272",
   "metadata": {},
   "outputs": [
    {
     "data": {
      "text/html": [
       "<div>\n",
       "<style scoped>\n",
       "    .dataframe tbody tr th:only-of-type {\n",
       "        vertical-align: middle;\n",
       "    }\n",
       "\n",
       "    .dataframe tbody tr th {\n",
       "        vertical-align: top;\n",
       "    }\n",
       "\n",
       "    .dataframe thead th {\n",
       "        text-align: right;\n",
       "    }\n",
       "</style>\n",
       "<table border=\"1\" class=\"dataframe\">\n",
       "  <thead>\n",
       "    <tr style=\"text-align: right;\">\n",
       "      <th></th>\n",
       "      <th>nation</th>\n",
       "      <th>year</th>\n",
       "      <th>customer_number</th>\n",
       "    </tr>\n",
       "  </thead>\n",
       "  <tbody>\n",
       "    <tr>\n",
       "      <th>0</th>\n",
       "      <td>ko</td>\n",
       "      <td>2015</td>\n",
       "      <td>200</td>\n",
       "    </tr>\n",
       "    <tr>\n",
       "      <th>1</th>\n",
       "      <td>ko</td>\n",
       "      <td>2016</td>\n",
       "      <td>250</td>\n",
       "    </tr>\n",
       "    <tr>\n",
       "      <th>2</th>\n",
       "      <td>us</td>\n",
       "      <td>2017</td>\n",
       "      <td>300</td>\n",
       "    </tr>\n",
       "    <tr>\n",
       "      <th>3</th>\n",
       "      <td>ja</td>\n",
       "      <td>2018</td>\n",
       "      <td>250</td>\n",
       "    </tr>\n",
       "    <tr>\n",
       "      <th>4</th>\n",
       "      <td>ch</td>\n",
       "      <td>2018</td>\n",
       "      <td>400</td>\n",
       "    </tr>\n",
       "  </tbody>\n",
       "</table>\n",
       "</div>"
      ],
      "text/plain": [
       "  nation  year  customer_number\n",
       "0     ko  2015              200\n",
       "1     ko  2016              250\n",
       "2     us  2017              300\n",
       "3     ja  2018              250\n",
       "4     ch  2018              400"
      ]
     },
     "execution_count": 18,
     "metadata": {},
     "output_type": "execute_result"
    }
   ],
   "source": [
    "df = pd.DataFrame(data=table_data, columns=['nation', 'year','customer_number']) # 이런 식으로 칼럼 순서를 바꿀 수 있다\n",
    "df # 굳이 df에 할당하는 이유는 없다~~ df 선언 안해도 잘만 나옴\n",
    "# 그리고 pd.DataFrame(table_data, columns=['nation', 'year','customer_number'])\n",
    "\n",
    "# pd.DataFrame(table_data, columns=['nation', 'year','customer_number']) << 이렇게 표시해도 똑같이 나옴"
   ]
  },
  {
   "cell_type": "code",
   "execution_count": null,
   "id": "1696d86b-4e9b-4e14-b1a4-9e43bfb08ffc",
   "metadata": {},
   "outputs": [],
   "source": [
    "# Series 만들기 \n",
    "\n",
    "s1 = pd.Series([10,20,30,40,50])\n",
    "s1"
   ]
  },
  {
   "cell_type": "code",
   "execution_count": 21,
   "id": "e9272a38-edf2-4118-899a-cbbc67240999",
   "metadata": {},
   "outputs": [
    {
     "data": {
      "text/plain": [
       "array([ 1. ,  2. ,  3. ,  4. ,  5. ,  6.3,  7. ,  8. , 10. ])"
      ]
     },
     "execution_count": 21,
     "metadata": {},
     "output_type": "execute_result"
    }
   ],
   "source": [
    "# Numpy 기초\n",
    "import numpy as np # 사실 as 뒤에 아무거나 붙여도 되는 건 함정~\n",
    "\n",
    "data1 = [1,2,3,4,5,6.3,7,8,10]\n",
    "a1 = np.array(data1)\n",
    "a1\n",
    "\n",
    "# 정수형, 실수형 데이터의 차이점을 한 번 살펴보자~"
   ]
  },
  {
   "cell_type": "code",
   "execution_count": 36,
   "id": "281be3d0-51d1-42ca-8a99-be3b3a23e2b6",
   "metadata": {},
   "outputs": [
    {
     "data": {
      "text/plain": [
       "array([[1, 2, 3],\n",
       "       [2, 3, 4],\n",
       "       [3, 4, 5]])"
      ]
     },
     "execution_count": 36,
     "metadata": {},
     "output_type": "execute_result"
    }
   ],
   "source": [
    "data2 = [[1,2,3],[2,3,4],[3,4,5]]\n",
    "a2 = np.array(data2)\n",
    "a2\n",
    "# data2\n",
    "\n",
    "# data2와 a2를 출력했을 때의 차이가 뭔가?"
   ]
  },
  {
   "cell_type": "code",
   "execution_count": 37,
   "id": "d048e084-9c07-4aad-97b8-865c7999215e",
   "metadata": {},
   "outputs": [
    {
     "data": {
      "text/plain": [
       "[[1, 2, 3], [2, 3, 4], [3, 4, 5]]"
      ]
     },
     "execution_count": 37,
     "metadata": {},
     "output_type": "execute_result"
    }
   ],
   "source": [
    "data2"
   ]
  },
  {
   "cell_type": "code",
   "execution_count": 43,
   "id": "3848f773-1cf6-4e80-82c8-95e92229b5ee",
   "metadata": {},
   "outputs": [
    {
     "data": {
      "text/plain": [
       "array([[ 1. ,  2. ,  3. ],\n",
       "       [ 4. ,  5. ,  6.3],\n",
       "       [ 7. ,  8. , 10. ]])"
      ]
     },
     "execution_count": 43,
     "metadata": {},
     "output_type": "execute_result"
    }
   ],
   "source": [
    "a1.reshape(1,-1) # 1행으로 모양 바꾸기\n",
    "a1.reshape(3,3) # 3행으로 모양 바꾸기\n",
    "# a1.reshape(4,4) # 빈 부분이 자동적으로 채워지진 않아서 에러 발생"
   ]
  },
  {
   "cell_type": "code",
   "execution_count": 45,
   "id": "6680433d-c8f0-4ea5-bf7c-5d37f2276115",
   "metadata": {},
   "outputs": [
    {
     "data": {
      "text/plain": [
       "array([ 1. ,  2. ,  3. ,  4. ,  5. ,  6.3,  7. ,  8. , 10. ])"
      ]
     },
     "execution_count": 45,
     "metadata": {},
     "output_type": "execute_result"
    }
   ],
   "source": [
    "a1 # sort함수처럼 영구적으로 변형시키지는 않음"
   ]
  },
  {
   "cell_type": "code",
   "execution_count": 49,
   "id": "dc2a71ab-d018-4ec8-bee0-1cc278879c7a",
   "metadata": {},
   "outputs": [
    {
     "data": {
      "text/plain": [
       "(3, 3)"
      ]
     },
     "execution_count": 49,
     "metadata": {},
     "output_type": "execute_result"
    }
   ],
   "source": [
    "a1.reshape(3,3).shape\n",
    "# shape은 모양이 어떻게 생겼나 살펴 볼 수 있음\n",
    "# (행 갯수 , 열 갯수) 라고 이해하면 될 듯\n",
    "# a1.shape"
   ]
  },
  {
   "cell_type": "code",
   "execution_count": 54,
   "id": "3e8736ff-fa69-4976-8915-4b9bfab11a48",
   "metadata": {},
   "outputs": [
    {
     "data": {
      "text/plain": [
       "array([ 2,  4,  6,  8, 10])"
      ]
     },
     "execution_count": 54,
     "metadata": {},
     "output_type": "execute_result"
    }
   ],
   "source": [
    "a = range(2,11,2)\n",
    "np.array(a)\n",
    "# 이런 식으로 두 줄로 표현 할 수도 있지만"
   ]
  },
  {
   "cell_type": "code",
   "execution_count": 61,
   "id": "67c8c71f-f128-46da-8471-0015f0fb6abf",
   "metadata": {},
   "outputs": [
    {
     "data": {
      "text/plain": [
       "array([ 2,  4,  6,  8, 10])"
      ]
     },
     "execution_count": 61,
     "metadata": {},
     "output_type": "execute_result"
    }
   ],
   "source": [
    "np.arange(2,11,2) \n",
    "# np를 활용해 한줄로 표현 할 수도 있음.\n",
    "# 단, range가 아닌 arange라는 것을 기억할 것"
   ]
  },
  {
   "cell_type": "code",
   "execution_count": 63,
   "id": "4f0725d2-3def-4b4e-8f81-d5a483d9a9fb",
   "metadata": {},
   "outputs": [
    {
     "data": {
      "text/plain": [
       "array([ 1.  ,  3.25,  5.5 ,  7.75, 10.  ])"
      ]
     },
     "execution_count": 63,
     "metadata": {},
     "output_type": "execute_result"
    }
   ],
   "source": [
    "np.linspace(1,10,5) # 1에서 10까지 5등분하여 나타내기 "
   ]
  },
  {
   "cell_type": "code",
   "execution_count": 67,
   "id": "45a8b854-251b-4b8c-9e27-57120a91f470",
   "metadata": {},
   "outputs": [
    {
     "data": {
      "text/plain": [
       "array([ 0.        ,  3.33333333,  6.66666667, 10.        ])"
      ]
     },
     "execution_count": 67,
     "metadata": {},
     "output_type": "execute_result"
    }
   ],
   "source": [
    "np.linspace(0,10,4)"
   ]
  },
  {
   "cell_type": "code",
   "execution_count": 23,
   "id": "36b524de-8208-45ef-9862-aba33f56ea1f",
   "metadata": {},
   "outputs": [
    {
     "data": {
      "text/plain": [
       "array([  1.   , 323.53 , 555.   , 345.331])"
      ]
     },
     "execution_count": 23,
     "metadata": {},
     "output_type": "execute_result"
    }
   ],
   "source": [
    "# 데이터 형이 문자 일 때, 실수로 변환 시\n",
    "data = [\"1\",\"323.53\",\"555\",\"345.331\"]\n",
    "str_data = np.array(data)\n",
    "float_data = str_data.astype(float)\n",
    "float_data"
   ]
  },
  {
   "cell_type": "code",
   "execution_count": 36,
   "id": "7c320fdf-3686-4511-882f-2c73bebbeb27",
   "metadata": {},
   "outputs": [
    {
     "data": {
      "text/plain": [
       "array([  1, 323, 555, 345])"
      ]
     },
     "execution_count": 36,
     "metadata": {},
     "output_type": "execute_result"
    }
   ],
   "source": [
    "# int_data.astype(str) # 이거 이해가 안되는게 int_data 선언한 적이 없는데 왜 되는 거임??\n",
    "int_data = float_data.astype(int)\n",
    "# 이거 개 귀찮은데 한번에 바꿀 방법은 없나?\n",
    "int_data"
   ]
  },
  {
   "cell_type": "code",
   "execution_count": 28,
   "id": "17aa4597-198d-40c2-83a2-3237164c9c37",
   "metadata": {},
   "outputs": [
    {
     "data": {
      "text/plain": [
       "array([  1.   , 323.53 , 555.   , 345.331])"
      ]
     },
     "execution_count": 28,
     "metadata": {},
     "output_type": "execute_result"
    }
   ],
   "source": [
    "np.array(data).astype(float)"
   ]
  },
  {
   "cell_type": "markdown",
   "id": "b59407dc-4a75-4250-9f7f-b3caf5420038",
   "metadata": {},
   "source": [
    "# 통계 기초 연산\n",
    "#####   평균, 표준편차, 분산, 최대값, 최소값"
   ]
  },
  {
   "cell_type": "code",
   "execution_count": 37,
   "id": "b4c02260-8f5a-4834-a95f-718c14a01ba1",
   "metadata": {},
   "outputs": [
    {
     "data": {
      "text/plain": [
       "[306.0, 198.01262586006985, 39209.0, 555, 1]"
      ]
     },
     "execution_count": 37,
     "metadata": {},
     "output_type": "execute_result"
    }
   ],
   "source": [
    "# int_data = array([  1, 323, 555, 345])\n",
    "\n",
    "[int_data.mean(), int_data.std(), int_data.var(), int_data.max(), int_data.min()]"
   ]
  },
  {
   "cell_type": "markdown",
   "id": "69462d02-7fc5-4e04-90c3-0ee2d0816a7a",
   "metadata": {},
   "source": [
    "# Array 연산과 행렬 연산\n",
    "### 1) Array 연산"
   ]
  },
  {
   "cell_type": "code",
   "execution_count": 41,
   "id": "ec21de67-aae9-4d10-97b8-2aca506aa4b2",
   "metadata": {},
   "outputs": [],
   "source": [
    "A, B = [0,1,2,3] , [3,30,2,15]\n",
    "arr_A = np.array(A)\n",
    "arr_B = np.array(B)"
   ]
  },
  {
   "cell_type": "code",
   "execution_count": 43,
   "id": "6575a3f2-b0d9-4af0-a50d-1bfd7ff043df",
   "metadata": {},
   "outputs": [
    {
     "data": {
      "text/plain": [
       "array([ 3, 31,  4, 18])"
      ]
     },
     "execution_count": 43,
     "metadata": {},
     "output_type": "execute_result"
    }
   ],
   "source": [
    "arr_A + arr_B"
   ]
  },
  {
   "cell_type": "code",
   "execution_count": 45,
   "id": "4a0af3c7-dcd3-414c-a923-cdcd7b7265c0",
   "metadata": {},
   "outputs": [
    {
     "data": {
      "text/plain": [
       "array([ 0, 30,  4, 45])"
      ]
     },
     "execution_count": 45,
     "metadata": {},
     "output_type": "execute_result"
    }
   ],
   "source": [
    "arr_A * arr_B"
   ]
  },
  {
   "cell_type": "markdown",
   "id": "c6eb9f02-59cf-449c-9320-0757b30d71cf",
   "metadata": {},
   "source": [
    "### 2) 행렬 연산\n",
    "#### 행렬곱, 전치행렬, 역행렬, 행렬식"
   ]
  },
  {
   "cell_type": "code",
   "execution_count": 50,
   "id": "693d9054-5575-45c1-bf70-373ca6155c9a",
   "metadata": {},
   "outputs": [],
   "source": [
    "# 기본적으로 덧셈/뺄셈은 크기가 같으면 가능 (ex. [2x3] + [2x3] 인 경우)\n",
    "mat_A = np.array(A).reshape(2,2) # 2x2크기로 맞춰줘야 곱셈을 할 수 있음!\n",
    "mat_B = np.array(B).reshape(2,2)"
   ]
  },
  {
   "cell_type": "code",
   "execution_count": 52,
   "id": "0ea844e9-19ca-4a2c-a330-7d974eecb53d",
   "metadata": {},
   "outputs": [
    {
     "data": {
      "text/plain": [
       "array([[  2,  15],\n",
       "       [ 12, 105]])"
      ]
     },
     "execution_count": 52,
     "metadata": {},
     "output_type": "execute_result"
    }
   ],
   "source": [
    "mat_A.dot(mat_B)"
   ]
  },
  {
   "cell_type": "code",
   "execution_count": 54,
   "id": "1947fe79-3c81-4be4-8766-2e579b057997",
   "metadata": {},
   "outputs": [
    {
     "data": {
      "text/plain": [
       "array([[60, 93],\n",
       "       [30, 47]])"
      ]
     },
     "execution_count": 54,
     "metadata": {},
     "output_type": "execute_result"
    }
   ],
   "source": [
    "mat_B.dot(mat_A)\n",
    "# 당연히 알겠지만 행렬에서는\n",
    "# AB == BA 가 무조건 성립하지 않는다"
   ]
  },
  {
   "cell_type": "code",
   "execution_count": 56,
   "id": "59dfd450-61ef-4af0-8213-9898c7c12bb4",
   "metadata": {},
   "outputs": [
    {
     "data": {
      "text/plain": [
       "array([[  2,  15],\n",
       "       [ 12, 105]])"
      ]
     },
     "execution_count": 56,
     "metadata": {},
     "output_type": "execute_result"
    }
   ],
   "source": [
    "# 혹은 이렇게 표현 할 수도 있다.\n",
    "np.dot(mat_A,mat_B)"
   ]
  },
  {
   "cell_type": "code",
   "execution_count": 58,
   "id": "f8abdc51-004d-4838-8b16-81d620e0f283",
   "metadata": {},
   "outputs": [
    {
     "data": {
      "text/plain": [
       "array([[60, 93],\n",
       "       [30, 47]])"
      ]
     },
     "execution_count": 58,
     "metadata": {},
     "output_type": "execute_result"
    }
   ],
   "source": [
    "np.dot(mat_B,mat_A)"
   ]
  },
  {
   "cell_type": "markdown",
   "id": "91174bb8-3df8-4f81-9567-0b974b87ab96",
   "metadata": {},
   "source": [
    "# 전치 행렬의 특성\n",
    "#### 전치 행렬 : 행렬을 좌표로 표현했을 때, 좌상단부터 우하단까지 y = -x 직선`(주 대각선)`이 있다고 생각하면, y = -x 대칭인 행렬\n",
    "#### https://namu.wiki/w/%EC%A0%84%EC%B9%98%ED%96%89%EB%A0%AC\n",
    "#### 주요 특성\n",
    "1) 정사각 행렬에서만 전치 행렬이 존재하는 것은 아님\n",
    "   예를 들어, a = [1,2,3]을 전치하면\n",
    "    a' = [[1],[2],[3]] 이 된다.\n",
    "   \n",
    "2) 보통, 주어진 행렬을 전치 했을 때 계산이 가능한 경우를 보고 싶을 때 사용한다고 생각하면 될 것 같다."
   ]
  },
  {
   "cell_type": "code",
   "execution_count": 61,
   "id": "fb7bc23f-906e-4e47-a29f-91e9be1e0837",
   "metadata": {},
   "outputs": [
    {
     "data": {
      "text/plain": [
       "array([[0, 2],\n",
       "       [1, 3]])"
      ]
     },
     "execution_count": 61,
     "metadata": {},
     "output_type": "execute_result"
    }
   ],
   "source": [
    "# 전치 행렬 구하기\n",
    "np.transpose(mat_A)"
   ]
  },
  {
   "cell_type": "code",
   "execution_count": 63,
   "id": "412e53aa-3384-4f95-a021-820ea3d86657",
   "metadata": {},
   "outputs": [
    {
     "data": {
      "text/plain": [
       "array([[0, 2],\n",
       "       [1, 3]])"
      ]
     },
     "execution_count": 63,
     "metadata": {},
     "output_type": "execute_result"
    }
   ],
   "source": [
    "mat_A.transpose()"
   ]
  },
  {
   "cell_type": "code",
   "execution_count": 68,
   "id": "6d672028-694f-49e7-80f4-5ec0c74deb58",
   "metadata": {},
   "outputs": [
    {
     "data": {
      "text/plain": [
       "array([[-1.5,  0.5],\n",
       "       [ 1. ,  0. ]])"
      ]
     },
     "execution_count": 68,
     "metadata": {},
     "output_type": "execute_result"
    }
   ],
   "source": [
    "# 역행렬 구하기\n",
    "inv_A = np.linalg.inv(mat_A)\n",
    "inv_A"
   ]
  },
  {
   "cell_type": "code",
   "execution_count": 69,
   "id": "2b0f2c87-83a7-4be7-b194-c48e6bb99e62",
   "metadata": {},
   "outputs": [
    {
     "data": {
      "text/plain": [
       "array([[1., 0.],\n",
       "       [0., 1.]])"
      ]
     },
     "execution_count": 69,
     "metadata": {},
     "output_type": "execute_result"
    }
   ],
   "source": [
    "# 역행렬 잘 구해 졌는지 확인해보자\n",
    "np.dot(mat_A,inv_A)"
   ]
  },
  {
   "cell_type": "code",
   "execution_count": 75,
   "id": "3bc320d4-5737-4b0b-a011-baeff2a38bfe",
   "metadata": {},
   "outputs": [
    {
     "data": {
      "text/plain": [
       "array([[-1.        ,  2.        ],\n",
       "       [ 0.13333333, -0.2       ]])"
      ]
     },
     "execution_count": 75,
     "metadata": {},
     "output_type": "execute_result"
    }
   ],
   "source": [
    "inv_B = np.linalg.inv(mat_B)\n",
    "inv_B"
   ]
  },
  {
   "cell_type": "code",
   "execution_count": 77,
   "id": "6afdd024-ce7f-45fa-8f71-f10aca0024f1",
   "metadata": {},
   "outputs": [
    {
     "data": {
      "text/plain": [
       "array([[1., 0.],\n",
       "       [0., 1.]])"
      ]
     },
     "execution_count": 77,
     "metadata": {},
     "output_type": "execute_result"
    }
   ],
   "source": [
    "np.dot(inv_B,mat_B)"
   ]
  },
  {
   "cell_type": "code",
   "execution_count": 79,
   "id": "627ce8c9-25e3-48f0-80aa-6cf79f9829d7",
   "metadata": {},
   "outputs": [
    {
     "data": {
      "text/plain": [
       "-2.0"
      ]
     },
     "execution_count": 79,
     "metadata": {},
     "output_type": "execute_result"
    }
   ],
   "source": [
    "# determinant(행렬식) 구하기, ad-bc\n",
    "np.linalg.det(mat_A)"
   ]
  },
  {
   "cell_type": "markdown",
   "id": "9629721f-512e-4167-85b8-5ae31eb662e4",
   "metadata": {},
   "source": [
    "# 배열의 인덱싱과 슬라이싱"
   ]
  },
  {
   "cell_type": "code",
   "execution_count": 81,
   "id": "23900a88-ccfc-4fd0-8260-7bd32968b70a",
   "metadata": {},
   "outputs": [
    {
     "data": {
      "text/plain": [
       "array([1, 2, 3, 4, 5, 7, 7])"
      ]
     },
     "execution_count": 81,
     "metadata": {},
     "output_type": "execute_result"
    }
   ],
   "source": [
    "a1 = np.array([1,2,3,4,5,7,7])\n",
    "a1"
   ]
  },
  {
   "cell_type": "code",
   "execution_count": 84,
   "id": "a298b2c5-8a50-4806-abee-76884de2a1de",
   "metadata": {},
   "outputs": [
    {
     "data": {
      "text/plain": [
       "1"
      ]
     },
     "execution_count": 84,
     "metadata": {},
     "output_type": "execute_result"
    }
   ],
   "source": [
    "a1[0] # 리스트에서 맨날 쓰던 거랑 똑같다"
   ]
  },
  {
   "cell_type": "code",
   "execution_count": 87,
   "id": "0c3f6e29-2181-4314-981c-a83aeaab630d",
   "metadata": {},
   "outputs": [
    {
     "data": {
      "text/plain": [
       "array([1, 2, 3])"
      ]
     },
     "execution_count": 87,
     "metadata": {},
     "output_type": "execute_result"
    }
   ],
   "source": [
    "a1[:3]"
   ]
  },
  {
   "cell_type": "code",
   "execution_count": 88,
   "id": "b4935758-42cd-4546-a3a1-95544066f9fa",
   "metadata": {},
   "outputs": [
    {
     "data": {
      "text/plain": [
       "array([7, 7, 5, 4, 3, 2, 1])"
      ]
     },
     "execution_count": 88,
     "metadata": {},
     "output_type": "execute_result"
    }
   ],
   "source": [
    "a1[::-1]"
   ]
  },
  {
   "cell_type": "code",
   "execution_count": 109,
   "id": "e8b62032-9af4-4267-9c33-9810f174487d",
   "metadata": {},
   "outputs": [
    {
     "data": {
      "text/plain": [
       "array([1, 2, 3, 4, 5, 7, 7])"
      ]
     },
     "execution_count": 109,
     "metadata": {},
     "output_type": "execute_result"
    }
   ],
   "source": [
    "a = list(i for i in range(len(a1)))\n",
    "a1[a] # 이렇게는 된다"
   ]
  },
  {
   "cell_type": "code",
   "execution_count": 111,
   "id": "df3d5a21-afd1-40a3-b209-1db420926501",
   "metadata": {},
   "outputs": [
    {
     "ename": "IndexError",
     "evalue": "too many indices for array: array is 1-dimensional, but 3 were indexed",
     "output_type": "error",
     "traceback": [
      "\u001b[1;31m---------------------------------------------------------------------------\u001b[0m",
      "\u001b[1;31mIndexError\u001b[0m                                Traceback (most recent call last)",
      "Cell \u001b[1;32mIn[111], line 1\u001b[0m\n\u001b[1;32m----> 1\u001b[0m \u001b[43ma1\u001b[49m\u001b[43m[\u001b[49m\u001b[38;5;241;43m1\u001b[39;49m\u001b[43m,\u001b[49m\u001b[38;5;241;43m2\u001b[39;49m\u001b[43m,\u001b[49m\u001b[38;5;241;43m3\u001b[39;49m\u001b[43m]\u001b[49m \u001b[38;5;66;03m# 이렇게는 안된다.\u001b[39;00m\n",
      "\u001b[1;31mIndexError\u001b[0m: too many indices for array: array is 1-dimensional, but 3 were indexed"
     ]
    }
   ],
   "source": [
    "a1[1,2,3] # 이렇게는 안된다."
   ]
  },
  {
   "cell_type": "code",
   "execution_count": 113,
   "id": "eaa38e65-8943-40cb-b188-e7f600ad6c1f",
   "metadata": {},
   "outputs": [
    {
     "data": {
      "text/plain": [
       "array([2, 3, 4])"
      ]
     },
     "execution_count": 113,
     "metadata": {},
     "output_type": "execute_result"
    }
   ],
   "source": [
    "a1[[1,2,3]] # 대신 이렇게 하면 된다."
   ]
  },
  {
   "cell_type": "code",
   "execution_count": 116,
   "id": "cffa703a-81f4-411d-bdb0-658c87cdbdc7",
   "metadata": {},
   "outputs": [
    {
     "data": {
      "text/plain": [
       "2"
      ]
     },
     "execution_count": 116,
     "metadata": {},
     "output_type": "execute_result"
    }
   ],
   "source": [
    "a2 = [1,2,3,4,5]\n",
    "a2[1]"
   ]
  },
  {
   "cell_type": "code",
   "execution_count": 119,
   "id": "7ef7122e-0e67-46c5-8747-6f71faadb190",
   "metadata": {},
   "outputs": [
    {
     "data": {
      "text/plain": [
       "array([2, 3, 4])"
      ]
     },
     "execution_count": 119,
     "metadata": {},
     "output_type": "execute_result"
    }
   ],
   "source": [
    "a2 = np.array(a2) # 일반적인 리스트 상태일 때는 인덱스에 리스트를 넣는 것은 사용 불가임\n",
    "a2[[1,2,3]]       # 반드시, np.array 이후 사용할 것"
   ]
  },
  {
   "cell_type": "code",
   "execution_count": 194,
   "id": "f5efed8f-393a-47fd-b66c-2fd60d68501a",
   "metadata": {},
   "outputs": [
    {
     "data": {
      "text/plain": [
       "array([10, 20, 30, 40, 50, 60, 70, 80, 90])"
      ]
     },
     "execution_count": 194,
     "metadata": {},
     "output_type": "execute_result"
    }
   ],
   "source": [
    "a3 = np.arange(10,100,10)\n",
    "a3"
   ]
  },
  {
   "cell_type": "code",
   "execution_count": 195,
   "id": "b4971358-7cc3-433d-babc-cf734107fe5f",
   "metadata": {},
   "outputs": [
    {
     "data": {
      "text/plain": [
       "array([[10, 20, 30],\n",
       "       [40, 50, 60],\n",
       "       [70, 80, 90]])"
      ]
     },
     "execution_count": 195,
     "metadata": {},
     "output_type": "execute_result"
    }
   ],
   "source": [
    "a3 = a3.reshape(3,3)\n",
    "a3"
   ]
  },
  {
   "cell_type": "code",
   "execution_count": 196,
   "id": "e4614d4e-f932-4815-bd04-f28fdeb5b1fc",
   "metadata": {},
   "outputs": [
    {
     "data": {
      "text/plain": [
       "30"
      ]
     },
     "execution_count": 196,
     "metadata": {},
     "output_type": "execute_result"
    }
   ],
   "source": [
    "a3[0,2] #a3[0][2] 와 같음"
   ]
  },
  {
   "cell_type": "code",
   "execution_count": 197,
   "id": "92403b70-b5eb-4f84-bb90-7e969cae9463",
   "metadata": {},
   "outputs": [
    {
     "data": {
      "text/plain": [
       "30"
      ]
     },
     "execution_count": 197,
     "metadata": {},
     "output_type": "execute_result"
    }
   ],
   "source": [
    "a3[0][2]"
   ]
  },
  {
   "cell_type": "code",
   "execution_count": 198,
   "id": "4059780c-ef99-43d8-ae9b-acfaba3177b2",
   "metadata": {},
   "outputs": [
    {
     "data": {
      "text/plain": [
       "array([[11, 22, 33],\n",
       "       [41, 52, 63],\n",
       "       [71, 82, 93]])"
      ]
     },
     "execution_count": 198,
     "metadata": {},
     "output_type": "execute_result"
    }
   ],
   "source": [
    "a3 + [1,2,3]\n",
    "\n",
    "# 이건뭐야 대쳌ㅋㅋㅋㅋㅋ"
   ]
  },
  {
   "cell_type": "code",
   "execution_count": 199,
   "id": "74faa0b8-f8c6-4259-8771-d2a67fe1f585",
   "metadata": {},
   "outputs": [
    {
     "data": {
      "text/plain": [
       "array([[10, 20, 30],\n",
       "       [40, 50, 60],\n",
       "       [70, 80, 90]])"
      ]
     },
     "execution_count": 199,
     "metadata": {},
     "output_type": "execute_result"
    }
   ],
   "source": [
    "a3"
   ]
  },
  {
   "cell_type": "code",
   "execution_count": 201,
   "id": "cb72f70f-eb45-4735-9b7e-563c1ddf1a4c",
   "metadata": {},
   "outputs": [
    {
     "data": {
      "text/plain": [
       "array([40, 80])"
      ]
     },
     "execution_count": 201,
     "metadata": {},
     "output_type": "execute_result"
    }
   ],
   "source": [
    "a3[[1,2],[0,1]] # 여러 원소 가져오기"
   ]
  },
  {
   "cell_type": "code",
   "execution_count": 204,
   "id": "595c4737-3739-4d4e-b59f-c377f0c75e64",
   "metadata": {},
   "outputs": [
    {
     "data": {
      "text/plain": [
       "array([[10, 20, 30],\n",
       "       [40, 50, 60]])"
      ]
     },
     "execution_count": 204,
     "metadata": {},
     "output_type": "execute_result"
    }
   ],
   "source": [
    "a3[:2] # 슬라이싱도 가능함"
   ]
  },
  {
   "cell_type": "code",
   "execution_count": 228,
   "id": "09c7122a-e50b-47d2-8a45-40b43953c680",
   "metadata": {},
   "outputs": [
    {
     "data": {
      "text/plain": [
       "array([111, 127, 143, 159])"
      ]
     },
     "execution_count": 228,
     "metadata": {},
     "output_type": "execute_result"
    }
   ],
   "source": [
    "a4 = np.arange(15,160,16)\n",
    "a4 \n",
    "# array([ 15,  31,  47,  63,  79,  95, 111, 127, 143, 159])\n",
    "\n",
    "a4[a4>100] # 이렇게 조건 식을 넣을 수 도 있음 "
   ]
  },
  {
   "cell_type": "code",
   "execution_count": 277,
   "id": "119715df-abc1-490d-bc1a-72505da24f55",
   "metadata": {},
   "outputs": [
    {
     "data": {
      "text/plain": [
       "array([15, 31, 47])"
      ]
     },
     "execution_count": 277,
     "metadata": {},
     "output_type": "execute_result"
    }
   ],
   "source": [
    "sort_a4 = a4.sort() # 이렇게 하면 안되고\n",
    "sort_a4 = np.sort(a4) \n",
    "sort_a4[:3]"
   ]
  },
  {
   "cell_type": "code",
   "execution_count": 241,
   "id": "ea579556-d066-414f-8bab-240f104081f0",
   "metadata": {},
   "outputs": [
    {
     "data": {
      "text/plain": [
       "(array([159, 143, 127, 111,  95,  79,  63,  47,  31,  15]),\n",
       " array([ 15,  31,  47,  63,  79,  95, 111, 127, 143, 159]))"
      ]
     },
     "execution_count": 241,
     "metadata": {},
     "output_type": "execute_result"
    }
   ],
   "source": [
    "minus_a4 = sort_a4[::-1] # 내림차 순으로 정렬\n",
    "minus_a4 , sort_a4"
   ]
  },
  {
   "cell_type": "code",
   "execution_count": 267,
   "id": "fa9b9bb9-fe8c-430f-b20e-0c9c671a7c58",
   "metadata": {},
   "outputs": [
    {
     "data": {
      "text/plain": [
       "12"
      ]
     },
     "execution_count": 267,
     "metadata": {},
     "output_type": "execute_result"
    }
   ],
   "source": [
    "a5 = [1,-52,23,123,54,156,-233,-5,0,215,45]\n",
    "a5 += [3,]\n",
    "len(a5)"
   ]
  },
  {
   "cell_type": "code",
   "execution_count": 278,
   "id": "9204de8f-5859-417f-abef-e04053c557d0",
   "metadata": {},
   "outputs": [
    {
     "data": {
      "text/plain": [
       "array([[   1,  -52,   23,  123],\n",
       "       [  54,  156, -233,   -5],\n",
       "       [   0,  215,   45,    3]])"
      ]
     },
     "execution_count": 278,
     "metadata": {},
     "output_type": "execute_result"
    }
   ],
   "source": [
    "a5 = np.array(a5).reshape(3,4)\n",
    "a5"
   ]
  },
  {
   "cell_type": "code",
   "execution_count": 296,
   "id": "40612582-abc5-481d-8221-16fabce10159",
   "metadata": {},
   "outputs": [
    {
     "data": {
      "text/plain": [
       "(array([[   1,  -52,   23,  123],\n",
       "        [  54,  156, -233,   -5],\n",
       "        [   0,  215,   45,    3]]),\n",
       " array([[ -52,    1,   23,  123],\n",
       "        [-233,   -5,   54,  156],\n",
       "        [   0,    3,   45,  215]]))"
      ]
     },
     "execution_count": 296,
     "metadata": {},
     "output_type": "execute_result"
    }
   ],
   "source": [
    "sort_a5 = np.sort(a5) # 아무것도 안넣으면 axis= 1\n",
    "a5, sort_a5 # 모든 행의 순서까지 sort\n"
   ]
  },
  {
   "cell_type": "code",
   "execution_count": 293,
   "id": "e7e7c35c-6ad7-4f95-add8-21c333b9f891",
   "metadata": {},
   "outputs": [
    {
     "data": {
      "text/plain": [
       "(array([[   1,  -52,   23,  123],\n",
       "        [  54,  156, -233,   -5],\n",
       "        [   0,  215,   45,    3]]),\n",
       " array([[   0,  -52, -233,   -5],\n",
       "        [   1,  156,   23,    3],\n",
       "        [  54,  215,   45,  123]]))"
      ]
     },
     "execution_count": 293,
     "metadata": {},
     "output_type": "execute_result"
    }
   ],
   "source": [
    "sort_a5 = np.sort(a5,axis = 0) \n",
    "a5, sort_a5 # 이거 도대체 나한테 왜이럼?"
   ]
  },
  {
   "cell_type": "code",
   "execution_count": 294,
   "id": "e2cb8717-69e7-466b-82fc-299dc246e12b",
   "metadata": {},
   "outputs": [
    {
     "data": {
      "text/plain": [
       "(array([[   1,  -52,   23,  123],\n",
       "        [  54,  156, -233,   -5],\n",
       "        [   0,  215,   45,    3]]),\n",
       " array([[ -52,    1,   23,  123],\n",
       "        [-233,   -5,   54,  156],\n",
       "        [   0,    3,   45,  215]]))"
      ]
     },
     "execution_count": 294,
     "metadata": {},
     "output_type": "execute_result"
    }
   ],
   "source": [
    "sort_a5 = np.sort(a5,axis = 1) \n",
    "a5, sort_a5\n",
    "# axis 0을 기준으로 정렬하면, 세로로 보았을 때 작은 값부터 정렬되었음을 볼 수 있다.\n",
    "# axis 1은 가로로 보았을 때 작은 값부터 정렬되어있다.\n",
    "\n",
    "# https://for-data-science.tistory.com/8 [For Data Science:티스토리]"
   ]
  },
  {
   "cell_type": "code",
   "execution_count": 297,
   "id": "312b2a94-ea82-4ce8-9603-9548e8b6ef94",
   "metadata": {},
   "outputs": [
    {
     "ename": "AxisError",
     "evalue": "axis 2 is out of bounds for array of dimension 2",
     "output_type": "error",
     "traceback": [
      "\u001b[1;31m---------------------------------------------------------------------------\u001b[0m",
      "\u001b[1;31mAxisError\u001b[0m                                 Traceback (most recent call last)",
      "Cell \u001b[1;32mIn[297], line 1\u001b[0m\n\u001b[1;32m----> 1\u001b[0m sort_a5 \u001b[38;5;241m=\u001b[39m \u001b[43mnp\u001b[49m\u001b[38;5;241;43m.\u001b[39;49m\u001b[43msort\u001b[49m\u001b[43m(\u001b[49m\u001b[43ma5\u001b[49m\u001b[43m,\u001b[49m\u001b[43maxis\u001b[49m\u001b[43m \u001b[49m\u001b[38;5;241;43m=\u001b[39;49m\u001b[43m \u001b[49m\u001b[38;5;241;43m2\u001b[39;49m\u001b[43m)\u001b[49m \n\u001b[0;32m      2\u001b[0m sort_a5\n\u001b[0;32m      3\u001b[0m \u001b[38;5;66;03m# 현재 2차원으로 돼있어서, 0,1 까지 인덱스만 넣을 수 있음\u001b[39;00m\n",
      "File \u001b[1;32m~\\AppData\\Local\\Programs\\Python\\Python311\\Lib\\site-packages\\numpy\\core\\fromnumeric.py:1017\u001b[0m, in \u001b[0;36msort\u001b[1;34m(a, axis, kind, order)\u001b[0m\n\u001b[0;32m   1015\u001b[0m \u001b[38;5;28;01melse\u001b[39;00m:\n\u001b[0;32m   1016\u001b[0m     a \u001b[38;5;241m=\u001b[39m asanyarray(a)\u001b[38;5;241m.\u001b[39mcopy(order\u001b[38;5;241m=\u001b[39m\u001b[38;5;124m\"\u001b[39m\u001b[38;5;124mK\u001b[39m\u001b[38;5;124m\"\u001b[39m)\n\u001b[1;32m-> 1017\u001b[0m \u001b[43ma\u001b[49m\u001b[38;5;241;43m.\u001b[39;49m\u001b[43msort\u001b[49m\u001b[43m(\u001b[49m\u001b[43maxis\u001b[49m\u001b[38;5;241;43m=\u001b[39;49m\u001b[43maxis\u001b[49m\u001b[43m,\u001b[49m\u001b[43m \u001b[49m\u001b[43mkind\u001b[49m\u001b[38;5;241;43m=\u001b[39;49m\u001b[43mkind\u001b[49m\u001b[43m,\u001b[49m\u001b[43m \u001b[49m\u001b[43morder\u001b[49m\u001b[38;5;241;43m=\u001b[39;49m\u001b[43morder\u001b[49m\u001b[43m)\u001b[49m\n\u001b[0;32m   1018\u001b[0m \u001b[38;5;28;01mreturn\u001b[39;00m a\n",
      "\u001b[1;31mAxisError\u001b[0m: axis 2 is out of bounds for array of dimension 2"
     ]
    }
   ],
   "source": [
    "sort_a5 = np.sort(a5,axis = 2) \n",
    "sort_a5\n",
    "# 현재 2차원으로 돼있어서, 0,1 까지 인덱스만 넣을 수 있음"
   ]
  },
  {
   "cell_type": "code",
   "execution_count": 350,
   "id": "24f14f06-9129-4b7f-a690-edaa970ef968",
   "metadata": {},
   "outputs": [],
   "source": [
    "\"\"\"\n",
    "여기서 부터 시작~~~\n",
    "\"\"\"\n",
    "\n",
    "import random\n",
    "# a6 = [random.randrange(-100,100) for i in range(10)]\n",
    "price = [-60, 80, 95, 30, -11, 61, 75, -76, 11, -22]\n",
    "price = np.array(a6)"
   ]
  },
  {
   "cell_type": "code",
   "execution_count": 355,
   "id": "2e463145-340f-445d-8e91-d5ec3fc5fdc9",
   "metadata": {},
   "outputs": [
    {
     "data": {
      "text/plain": [
       "array(['-39', '-22', '79', '69', '7', '98', '44', '-52', '24', '-66'],\n",
       "      dtype='<U3')"
      ]
     },
     "execution_count": 355,
     "metadata": {},
     "output_type": "execute_result"
    }
   ],
   "source": [
    "# a6 = [str(random.randrange(-100,100)) for i in range(10)]\n",
    "name = ['-39', '-22', '79', '69', '7', '98', '44', '-52', '24', '-66']\n",
    "name = np.array(name)\n",
    "name"
   ]
  },
  {
   "cell_type": "code",
   "execution_count": 356,
   "id": "620f2cce-87bf-40ef-83e4-e283b63c785f",
   "metadata": {},
   "outputs": [
    {
     "data": {
      "text/plain": [
       "array([7, 0, 9, 4, 8, 3, 5, 6, 1, 2], dtype=int64)"
      ]
     },
     "execution_count": 356,
     "metadata": {},
     "output_type": "execute_result"
    }
   ],
   "source": [
    "sort = np.argsort(price)  # price 순서 그대로 뒀을 때 이를 인덱스만으로 나타내면\n",
    "sort                      # sort와 같은 형태로 표현 가능해진다."
   ]
  },
  {
   "cell_type": "code",
   "execution_count": 358,
   "id": "5a6fa8b3-cc86-48a6-b4f7-a4d67cd96cd9",
   "metadata": {},
   "outputs": [
    {
     "data": {
      "text/plain": [
       "'\\n여기까지~~\\n'"
      ]
     },
     "execution_count": 358,
     "metadata": {},
     "output_type": "execute_result"
    }
   ],
   "source": [
    "name[sort]\n",
    "\n",
    "\"\"\"\n",
    "여기까지~~\n",
    "\"\"\""
   ]
  },
  {
   "cell_type": "code",
   "execution_count": 362,
   "id": "a9f56aee-28e8-4441-ac54-7c3a14ff8fd0",
   "metadata": {},
   "outputs": [
    {
     "data": {
      "text/plain": [
       "array([2, 1, 6, 5, 3, 8, 4, 9, 0, 7], dtype=int64)"
      ]
     },
     "execution_count": 362,
     "metadata": {},
     "output_type": "execute_result"
    }
   ],
   "source": [
    "sort = np.argsort(price)[::-1]  # price 역순을 인덱스만 남기기\n",
    "sort"
   ]
  },
  {
   "cell_type": "code",
   "execution_count": 364,
   "id": "2c3e0ae3-81d3-4a50-88eb-05bb04e5d579",
   "metadata": {},
   "outputs": [
    {
     "data": {
      "text/plain": [
       "array(['79', '-22', '44', '98', '69', '24', '7', '-66', '-39', '-52'],\n",
       "      dtype='<U3')"
      ]
     },
     "execution_count": 364,
     "metadata": {},
     "output_type": "execute_result"
    }
   ],
   "source": [
    "name[sort]"
   ]
  },
  {
   "cell_type": "code",
   "execution_count": 372,
   "id": "954d0bc0-b282-421c-837a-5bf19d3b475a",
   "metadata": {},
   "outputs": [
    {
     "data": {
      "text/plain": [
       "array([[10, 20, 30],\n",
       "       [40, 50, 60],\n",
       "       [70, 80, 90]])"
      ]
     },
     "execution_count": 372,
     "metadata": {},
     "output_type": "execute_result"
    }
   ],
   "source": [
    "# 마지막이다...\n",
    "A = np.arange(10,100,10)\n",
    "A = A.reshape(3,3)\n",
    "A"
   ]
  },
  {
   "cell_type": "code",
   "execution_count": 388,
   "id": "b3c1b457-e441-4261-9297-e82aab65063c",
   "metadata": {},
   "outputs": [
    {
     "data": {
      "text/plain": [
       "(array([[10, 20, 30],\n",
       "        [40, 50, 60],\n",
       "        [70, 80, 90]]),\n",
       " array([[70, 80, 90]]),\n",
       " array([[10, 20, 30]]),\n",
       " array([[10, 20, 30],\n",
       "        [40, 50, 60]]),\n",
       " array([30]))"
      ]
     },
     "execution_count": 388,
     "metadata": {},
     "output_type": "execute_result"
    }
   ],
   "source": [
    "A , A[2,1:], A[1][1:], A[:2,:2], A[1:] # 온갖 희한한 방법이 가능하다... \n",
    "# 개이상함...\n",
    "A, A[1:][1:], A[:1][:1], A[:2][:2], A[0][2:]"
   ]
  },
  {
   "cell_type": "code",
   "execution_count": null,
   "id": "0c8b7a7d-a077-4b87-a48f-31b6957bec35",
   "metadata": {},
   "outputs": [],
   "source": []
  }
 ],
 "metadata": {
  "kernelspec": {
   "display_name": "Python 3 (ipykernel)",
   "language": "python",
   "name": "python3"
  },
  "language_info": {
   "codemirror_mode": {
    "name": "ipython",
    "version": 3
   },
   "file_extension": ".py",
   "mimetype": "text/x-python",
   "name": "python",
   "nbconvert_exporter": "python",
   "pygments_lexer": "ipython3",
   "version": "3.11.6"
  }
 },
 "nbformat": 4,
 "nbformat_minor": 5
}
