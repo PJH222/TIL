{
 "cells": [
  {
   "cell_type": "markdown",
   "id": "1b3c78f7-1fea-4ce6-b55c-20f5a8e328c9",
   "metadata": {},
   "source": [
    "# Series와 DataFrame의 차이는?\n",
    "### 기본적으로 시리즈는 1차원 배열, 데이터프레임은 2차원 배열 혹은 행과 열이 있는 2차원 데이터 구조이다."
   ]
  },
  {
   "cell_type": "code",
   "execution_count": 6,
   "id": "aa5da4c0-352d-4f6d-8b4c-e22e811f72ef",
   "metadata": {},
   "outputs": [
    {
     "data": {
      "text/plain": [
       "{'year': [2015, 2016, 2017, 2018, 2018],\n",
       " 'nation': ['ko', 'ko', 'us', 'ja', 'ch'],\n",
       " 'customer_number': [200, 250, 300, 250, 400]}"
      ]
     },
     "execution_count": 6,
     "metadata": {},
     "output_type": "execute_result"
    }
   ],
   "source": [
    "# 데이터프레임 만들기 기초\n",
    "\n",
    "import pandas as pd\n",
    "\n",
    "table_data = {\"year\" : [2015,2016,2017,2018,2018],\n",
    "              \"nation\" : ['ko','ko','us','ja','ch'],\n",
    "              \"customer_number\" : [200,250,300,250,400]}\n",
    "table_data"
   ]
  },
  {
   "cell_type": "code",
   "execution_count": 11,
   "id": "6cee5e2a-0326-40ff-bfe5-33c059e61cd8",
   "metadata": {},
   "outputs": [
    {
     "data": {
      "text/html": [
       "<div>\n",
       "<style scoped>\n",
       "    .dataframe tbody tr th:only-of-type {\n",
       "        vertical-align: middle;\n",
       "    }\n",
       "\n",
       "    .dataframe tbody tr th {\n",
       "        vertical-align: top;\n",
       "    }\n",
       "\n",
       "    .dataframe thead th {\n",
       "        text-align: right;\n",
       "    }\n",
       "</style>\n",
       "<table border=\"1\" class=\"dataframe\">\n",
       "  <thead>\n",
       "    <tr style=\"text-align: right;\">\n",
       "      <th></th>\n",
       "      <th>year</th>\n",
       "      <th>nation</th>\n",
       "      <th>customer_number</th>\n",
       "    </tr>\n",
       "  </thead>\n",
       "  <tbody>\n",
       "    <tr>\n",
       "      <th>0</th>\n",
       "      <td>2015</td>\n",
       "      <td>ko</td>\n",
       "      <td>200</td>\n",
       "    </tr>\n",
       "    <tr>\n",
       "      <th>1</th>\n",
       "      <td>2016</td>\n",
       "      <td>ko</td>\n",
       "      <td>250</td>\n",
       "    </tr>\n",
       "    <tr>\n",
       "      <th>2</th>\n",
       "      <td>2017</td>\n",
       "      <td>us</td>\n",
       "      <td>300</td>\n",
       "    </tr>\n",
       "    <tr>\n",
       "      <th>3</th>\n",
       "      <td>2018</td>\n",
       "      <td>ja</td>\n",
       "      <td>250</td>\n",
       "    </tr>\n",
       "    <tr>\n",
       "      <th>4</th>\n",
       "      <td>2018</td>\n",
       "      <td>ch</td>\n",
       "      <td>400</td>\n",
       "    </tr>\n",
       "  </tbody>\n",
       "</table>\n",
       "</div>"
      ],
      "text/plain": [
       "   year nation  customer_number\n",
       "0  2015     ko              200\n",
       "1  2016     ko              250\n",
       "2  2017     us              300\n",
       "3  2018     ja              250\n",
       "4  2018     ch              400"
      ]
     },
     "execution_count": 11,
     "metadata": {},
     "output_type": "execute_result"
    }
   ],
   "source": [
    "df = pd.DataFrame(table_data) # Dataframe 생성\n",
    "df"
   ]
  },
  {
   "cell_type": "code",
   "execution_count": 18,
   "id": "4df420d1-3b52-4205-8bf9-0297b9b4b272",
   "metadata": {},
   "outputs": [
    {
     "data": {
      "text/html": [
       "<div>\n",
       "<style scoped>\n",
       "    .dataframe tbody tr th:only-of-type {\n",
       "        vertical-align: middle;\n",
       "    }\n",
       "\n",
       "    .dataframe tbody tr th {\n",
       "        vertical-align: top;\n",
       "    }\n",
       "\n",
       "    .dataframe thead th {\n",
       "        text-align: right;\n",
       "    }\n",
       "</style>\n",
       "<table border=\"1\" class=\"dataframe\">\n",
       "  <thead>\n",
       "    <tr style=\"text-align: right;\">\n",
       "      <th></th>\n",
       "      <th>nation</th>\n",
       "      <th>year</th>\n",
       "      <th>customer_number</th>\n",
       "    </tr>\n",
       "  </thead>\n",
       "  <tbody>\n",
       "    <tr>\n",
       "      <th>0</th>\n",
       "      <td>ko</td>\n",
       "      <td>2015</td>\n",
       "      <td>200</td>\n",
       "    </tr>\n",
       "    <tr>\n",
       "      <th>1</th>\n",
       "      <td>ko</td>\n",
       "      <td>2016</td>\n",
       "      <td>250</td>\n",
       "    </tr>\n",
       "    <tr>\n",
       "      <th>2</th>\n",
       "      <td>us</td>\n",
       "      <td>2017</td>\n",
       "      <td>300</td>\n",
       "    </tr>\n",
       "    <tr>\n",
       "      <th>3</th>\n",
       "      <td>ja</td>\n",
       "      <td>2018</td>\n",
       "      <td>250</td>\n",
       "    </tr>\n",
       "    <tr>\n",
       "      <th>4</th>\n",
       "      <td>ch</td>\n",
       "      <td>2018</td>\n",
       "      <td>400</td>\n",
       "    </tr>\n",
       "  </tbody>\n",
       "</table>\n",
       "</div>"
      ],
      "text/plain": [
       "  nation  year  customer_number\n",
       "0     ko  2015              200\n",
       "1     ko  2016              250\n",
       "2     us  2017              300\n",
       "3     ja  2018              250\n",
       "4     ch  2018              400"
      ]
     },
     "execution_count": 18,
     "metadata": {},
     "output_type": "execute_result"
    }
   ],
   "source": [
    "df = pd.DataFrame(data=table_data, columns=['nation', 'year','customer_number']) # 이런 식으로 칼럼 순서를 바꿀 수 있다\n",
    "df # 굳이 df에 할당하는 이유는 없다~~ df 선언 안해도 잘만 나옴\n",
    "# 그리고 pd.DataFrame(table_data, columns=['nation', 'year','customer_number'])\n",
    "\n",
    "# pd.DataFrame(table_data, columns=['nation', 'year','customer_number']) << 이렇게 표시해도 똑같이 나옴"
   ]
  },
  {
   "cell_type": "code",
   "execution_count": null,
   "id": "1696d86b-4e9b-4e14-b1a4-9e43bfb08ffc",
   "metadata": {},
   "outputs": [],
   "source": [
    "# Series 만들기 \n",
    "\n",
    "s1 = pd.Series([10,20,30,40,50])\n",
    "s1"
   ]
  },
  {
   "cell_type": "code",
   "execution_count": 35,
   "id": "e9272a38-edf2-4118-899a-cbbc67240999",
   "metadata": {},
   "outputs": [
    {
     "data": {
      "text/plain": [
       "array([ 1. ,  2. ,  3. ,  4. ,  5. ,  6.3,  7. ,  8. , 10. ])"
      ]
     },
     "execution_count": 35,
     "metadata": {},
     "output_type": "execute_result"
    }
   ],
   "source": [
    "# Numpy 기초\n",
    "import numpy as np # 사실 as 뒤에 아무거나 붙여도 되는 건 함정~\n",
    "\n",
    "data1 = [1,2,3,4,5,6.3,7,8,10]\n",
    "a1 = np.array(data1)\n",
    "a1\n",
    "\n",
    "# 정수형, 실수형 데이터의 차이점을 한 번 살펴보자~"
   ]
  },
  {
   "cell_type": "code",
   "execution_count": 36,
   "id": "281be3d0-51d1-42ca-8a99-be3b3a23e2b6",
   "metadata": {},
   "outputs": [
    {
     "data": {
      "text/plain": [
       "array([[1, 2, 3],\n",
       "       [2, 3, 4],\n",
       "       [3, 4, 5]])"
      ]
     },
     "execution_count": 36,
     "metadata": {},
     "output_type": "execute_result"
    }
   ],
   "source": [
    "data2 = [[1,2,3],[2,3,4],[3,4,5]]\n",
    "a2 = np.array(data2)\n",
    "a2\n",
    "# data2\n",
    "\n",
    "# data2와 a2를 출력했을 때의 차이가 뭔가?"
   ]
  },
  {
   "cell_type": "code",
   "execution_count": 37,
   "id": "d048e084-9c07-4aad-97b8-865c7999215e",
   "metadata": {},
   "outputs": [
    {
     "data": {
      "text/plain": [
       "[[1, 2, 3], [2, 3, 4], [3, 4, 5]]"
      ]
     },
     "execution_count": 37,
     "metadata": {},
     "output_type": "execute_result"
    }
   ],
   "source": [
    "data2"
   ]
  },
  {
   "cell_type": "code",
   "execution_count": 43,
   "id": "3848f773-1cf6-4e80-82c8-95e92229b5ee",
   "metadata": {},
   "outputs": [
    {
     "data": {
      "text/plain": [
       "array([[ 1. ,  2. ,  3. ],\n",
       "       [ 4. ,  5. ,  6.3],\n",
       "       [ 7. ,  8. , 10. ]])"
      ]
     },
     "execution_count": 43,
     "metadata": {},
     "output_type": "execute_result"
    }
   ],
   "source": [
    "a1.reshape(1,-1) # 1행으로 모양 바꾸기\n",
    "a1.reshape(3,3) # 3행으로 모양 바꾸기\n",
    "# a1.reshape(4,4) # 빈 부분이 자동적으로 채워지진 않아서 에러 발생"
   ]
  },
  {
   "cell_type": "code",
   "execution_count": 45,
   "id": "6680433d-c8f0-4ea5-bf7c-5d37f2276115",
   "metadata": {},
   "outputs": [
    {
     "data": {
      "text/plain": [
       "array([ 1. ,  2. ,  3. ,  4. ,  5. ,  6.3,  7. ,  8. , 10. ])"
      ]
     },
     "execution_count": 45,
     "metadata": {},
     "output_type": "execute_result"
    }
   ],
   "source": [
    "a1 # sort함수처럼 영구적으로 변형시키지는 않음"
   ]
  },
  {
   "cell_type": "code",
   "execution_count": 49,
   "id": "dc2a71ab-d018-4ec8-bee0-1cc278879c7a",
   "metadata": {},
   "outputs": [
    {
     "data": {
      "text/plain": [
       "(3, 3)"
      ]
     },
     "execution_count": 49,
     "metadata": {},
     "output_type": "execute_result"
    }
   ],
   "source": [
    "a1.reshape(3,3).shape\n",
    "# shape은 모양이 어떻게 생겼나 살펴 볼 수 있음\n",
    "# (행 갯수 , 열 갯수) 라고 이해하면 될 듯\n",
    "# a1.shape"
   ]
  },
  {
   "cell_type": "code",
   "execution_count": 54,
   "id": "3e8736ff-fa69-4976-8915-4b9bfab11a48",
   "metadata": {},
   "outputs": [
    {
     "data": {
      "text/plain": [
       "array([ 2,  4,  6,  8, 10])"
      ]
     },
     "execution_count": 54,
     "metadata": {},
     "output_type": "execute_result"
    }
   ],
   "source": [
    "a = range(2,11,2)\n",
    "np.array(a)\n",
    "# 이런 식으로 두 줄로 표현 할 수도 있지만"
   ]
  },
  {
   "cell_type": "code",
   "execution_count": 61,
   "id": "67c8c71f-f128-46da-8471-0015f0fb6abf",
   "metadata": {},
   "outputs": [
    {
     "data": {
      "text/plain": [
       "array([ 2,  4,  6,  8, 10])"
      ]
     },
     "execution_count": 61,
     "metadata": {},
     "output_type": "execute_result"
    }
   ],
   "source": [
    "np.arange(2,11,2) \n",
    "# np를 활용해 한줄로 표현 할 수도 있음.\n",
    "# 단, range가 아닌 arange라는 것을 기억할 것"
   ]
  },
  {
   "cell_type": "code",
   "execution_count": 63,
   "id": "4f0725d2-3def-4b4e-8f81-d5a483d9a9fb",
   "metadata": {},
   "outputs": [
    {
     "data": {
      "text/plain": [
       "array([ 1.  ,  3.25,  5.5 ,  7.75, 10.  ])"
      ]
     },
     "execution_count": 63,
     "metadata": {},
     "output_type": "execute_result"
    }
   ],
   "source": [
    "np.linspace(1,10,5) # 1에서 10까지 5등분하여 나타내기 "
   ]
  },
  {
   "cell_type": "code",
   "execution_count": 67,
   "id": "45a8b854-251b-4b8c-9e27-57120a91f470",
   "metadata": {},
   "outputs": [
    {
     "data": {
      "text/plain": [
       "array([ 0.        ,  3.33333333,  6.66666667, 10.        ])"
      ]
     },
     "execution_count": 67,
     "metadata": {},
     "output_type": "execute_result"
    }
   ],
   "source": [
    "np.linspace(0,10,4)"
   ]
  },
  {
   "cell_type": "code",
   "execution_count": 75,
   "id": "36b524de-8208-45ef-9862-aba33f56ea1f",
   "metadata": {},
   "outputs": [
    {
     "data": {
      "text/plain": [
       "array([  1.   , 323.53 , 555.   , 345.331])"
      ]
     },
     "execution_count": 75,
     "metadata": {},
     "output_type": "execute_result"
    }
   ],
   "source": [
    "# 데이터 형이 문자 일 때, 실수로 변환 시\n",
    "data = [\"1\",\"323.53\",\"555\",\"345.331\"]\n",
    "str_data = np.array(data)\n",
    "float_data = str_data.astype(float)\n",
    "float_data"
   ]
  },
  {
   "cell_type": "code",
   "execution_count": 77,
   "id": "7c320fdf-3686-4511-882f-2c73bebbeb27",
   "metadata": {},
   "outputs": [
    {
     "data": {
      "text/plain": [
       "array([  1, 323, 555, 345])"
      ]
     },
     "execution_count": 77,
     "metadata": {},
     "output_type": "execute_result"
    }
   ],
   "source": [
    "data = [\"1\",\"323.53\",\"555\",\"345.331\"]\n",
    "str_data = np.array(data)\n",
    "float_data = str_data.astype(float)\n",
    "int_data.astype(int)\n",
    "# 이거 개 귀찮은데 한번에 바꿀 방법은 없나?"
   ]
  },
  {
   "cell_type": "code",
   "execution_count": null,
   "id": "17aa4597-198d-40c2-83a2-3237164c9c37",
   "metadata": {},
   "outputs": [],
   "source": []
  }
 ],
 "metadata": {
  "kernelspec": {
   "display_name": "Python 3 (ipykernel)",
   "language": "python",
   "name": "python3"
  },
  "language_info": {
   "codemirror_mode": {
    "name": "ipython",
    "version": 3
   },
   "file_extension": ".py",
   "mimetype": "text/x-python",
   "name": "python",
   "nbconvert_exporter": "python",
   "pygments_lexer": "ipython3",
   "version": "3.11.6"
  }
 },
 "nbformat": 4,
 "nbformat_minor": 5
}
