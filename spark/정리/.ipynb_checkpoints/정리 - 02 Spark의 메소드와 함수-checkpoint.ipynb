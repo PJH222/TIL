{
 "cells": [
  {
   "cell_type": "markdown",
   "id": "34f0bff2",
   "metadata": {},
   "source": [
    "# Spark DataFrame의 메소드/함수/특징 알아보기"
   ]
  },
  {
   "cell_type": "code",
   "execution_count": 20,
   "id": "cae1336e",
   "metadata": {},
   "outputs": [],
   "source": [
    "from pyspark.sql import SparkSession\n",
    "import pandas as pd\n",
    "\n",
    "spark = SparkSession.builder.master(\"local\").appName(\"spark-dataframe\").getOrCreate()\n",
    "spark\n",
    "\n",
    "filepath = \"/home/ubuntu/working/spark/data/titanic_train.csv\"\n",
    "titanic_sdf = spark.read.csv(filepath, inferSchema=True, header=True)\n",
    "titanic_pdf = pd.read_csv(filepath)"
   ]
  },
  {
   "cell_type": "markdown",
   "id": "46c66c99",
   "metadata": {},
   "source": [
    "## Select\n",
    "### Select 뽑는 방식의 차이"
   ]
  },
  {
   "cell_type": "code",
   "execution_count": 21,
   "id": "43f3b60d",
   "metadata": {},
   "outputs": [
    {
     "name": "stdout",
     "output_type": "stream",
     "text": [
      "+--------------------+-------+\n",
      "|                Name|   Fare|\n",
      "+--------------------+-------+\n",
      "|Braund, Mr. Owen ...|   7.25|\n",
      "|Cumings, Mrs. Joh...|71.2833|\n",
      "|Heikkinen, Miss. ...|  7.925|\n",
      "|Futrelle, Mrs. Ja...|   53.1|\n",
      "|Allen, Mr. Willia...|   8.05|\n",
      "|    Moran, Mr. James| 8.4583|\n",
      "|McCarthy, Mr. Tim...|51.8625|\n",
      "|Palsson, Master. ...| 21.075|\n",
      "|Johnson, Mrs. Osc...|11.1333|\n",
      "|Nasser, Mrs. Nich...|30.0708|\n",
      "|Sandstrom, Miss. ...|   16.7|\n",
      "|Bonnell, Miss. El...|  26.55|\n",
      "|Saundercock, Mr. ...|   8.05|\n",
      "|Andersson, Mr. An...| 31.275|\n",
      "|Vestrom, Miss. Hu...| 7.8542|\n",
      "|Hewlett, Mrs. (Ma...|   16.0|\n",
      "|Rice, Master. Eugene| 29.125|\n",
      "|Williams, Mr. Cha...|   13.0|\n",
      "|Vander Planke, Mr...|   18.0|\n",
      "|Masselmani, Mrs. ...|  7.225|\n",
      "+--------------------+-------+\n",
      "only showing top 20 rows\n",
      "\n"
     ]
    },
    {
     "data": {
      "text/html": [
       "<div>\n",
       "<style scoped>\n",
       "    .dataframe tbody tr th:only-of-type {\n",
       "        vertical-align: middle;\n",
       "    }\n",
       "\n",
       "    .dataframe tbody tr th {\n",
       "        vertical-align: top;\n",
       "    }\n",
       "\n",
       "    .dataframe thead th {\n",
       "        text-align: right;\n",
       "    }\n",
       "</style>\n",
       "<table border=\"1\" class=\"dataframe\">\n",
       "  <thead>\n",
       "    <tr style=\"text-align: right;\">\n",
       "      <th></th>\n",
       "      <th>Name</th>\n",
       "      <th>Fare</th>\n",
       "    </tr>\n",
       "  </thead>\n",
       "  <tbody>\n",
       "    <tr>\n",
       "      <th>0</th>\n",
       "      <td>Braund, Mr. Owen Harris</td>\n",
       "      <td>7.2500</td>\n",
       "    </tr>\n",
       "    <tr>\n",
       "      <th>1</th>\n",
       "      <td>Cumings, Mrs. John Bradley (Florence Briggs Th...</td>\n",
       "      <td>71.2833</td>\n",
       "    </tr>\n",
       "    <tr>\n",
       "      <th>2</th>\n",
       "      <td>Heikkinen, Miss. Laina</td>\n",
       "      <td>7.9250</td>\n",
       "    </tr>\n",
       "    <tr>\n",
       "      <th>3</th>\n",
       "      <td>Futrelle, Mrs. Jacques Heath (Lily May Peel)</td>\n",
       "      <td>53.1000</td>\n",
       "    </tr>\n",
       "    <tr>\n",
       "      <th>4</th>\n",
       "      <td>Allen, Mr. William Henry</td>\n",
       "      <td>8.0500</td>\n",
       "    </tr>\n",
       "    <tr>\n",
       "      <th>...</th>\n",
       "      <td>...</td>\n",
       "      <td>...</td>\n",
       "    </tr>\n",
       "    <tr>\n",
       "      <th>886</th>\n",
       "      <td>Montvila, Rev. Juozas</td>\n",
       "      <td>13.0000</td>\n",
       "    </tr>\n",
       "    <tr>\n",
       "      <th>887</th>\n",
       "      <td>Graham, Miss. Margaret Edith</td>\n",
       "      <td>30.0000</td>\n",
       "    </tr>\n",
       "    <tr>\n",
       "      <th>888</th>\n",
       "      <td>Johnston, Miss. Catherine Helen \"Carrie\"</td>\n",
       "      <td>23.4500</td>\n",
       "    </tr>\n",
       "    <tr>\n",
       "      <th>889</th>\n",
       "      <td>Behr, Mr. Karl Howell</td>\n",
       "      <td>30.0000</td>\n",
       "    </tr>\n",
       "    <tr>\n",
       "      <th>890</th>\n",
       "      <td>Dooley, Mr. Patrick</td>\n",
       "      <td>7.7500</td>\n",
       "    </tr>\n",
       "  </tbody>\n",
       "</table>\n",
       "<p>891 rows × 2 columns</p>\n",
       "</div>"
      ],
      "text/plain": [
       "                                                  Name     Fare\n",
       "0                              Braund, Mr. Owen Harris   7.2500\n",
       "1    Cumings, Mrs. John Bradley (Florence Briggs Th...  71.2833\n",
       "2                               Heikkinen, Miss. Laina   7.9250\n",
       "3         Futrelle, Mrs. Jacques Heath (Lily May Peel)  53.1000\n",
       "4                             Allen, Mr. William Henry   8.0500\n",
       "..                                                 ...      ...\n",
       "886                              Montvila, Rev. Juozas  13.0000\n",
       "887                       Graham, Miss. Margaret Edith  30.0000\n",
       "888           Johnston, Miss. Catherine Helen \"Carrie\"  23.4500\n",
       "889                              Behr, Mr. Karl Howell  30.0000\n",
       "890                                Dooley, Mr. Patrick   7.7500\n",
       "\n",
       "[891 rows x 2 columns]"
      ]
     },
     "execution_count": 21,
     "metadata": {},
     "output_type": "execute_result"
    }
   ],
   "source": [
    "titanic_sdf.select(\"Name\",\"Fare\").show()\n",
    "titanic_pdf[[\"Name\",\"Fare\"]]"
   ]
  },
  {
   "cell_type": "code",
   "execution_count": 22,
   "id": "cb628888",
   "metadata": {},
   "outputs": [
    {
     "name": "stdout",
     "output_type": "stream",
     "text": [
      "+--------------------+----+------+-------+\n",
      "|                Name| Age|Pclass|   Fare|\n",
      "+--------------------+----+------+-------+\n",
      "|Braund, Mr. Owen ...|22.0|     3|   7.25|\n",
      "|Cumings, Mrs. Joh...|38.0|     1|71.2833|\n",
      "|Heikkinen, Miss. ...|26.0|     3|  7.925|\n",
      "|Futrelle, Mrs. Ja...|35.0|     1|   53.1|\n",
      "|Allen, Mr. Willia...|35.0|     3|   8.05|\n",
      "|    Moran, Mr. James|null|     3| 8.4583|\n",
      "|McCarthy, Mr. Tim...|54.0|     1|51.8625|\n",
      "|Palsson, Master. ...| 2.0|     3| 21.075|\n",
      "|Johnson, Mrs. Osc...|27.0|     3|11.1333|\n",
      "|Nasser, Mrs. Nich...|14.0|     2|30.0708|\n",
      "|Sandstrom, Miss. ...| 4.0|     3|   16.7|\n",
      "|Bonnell, Miss. El...|58.0|     1|  26.55|\n",
      "|Saundercock, Mr. ...|20.0|     3|   8.05|\n",
      "|Andersson, Mr. An...|39.0|     3| 31.275|\n",
      "|Vestrom, Miss. Hu...|14.0|     3| 7.8542|\n",
      "|Hewlett, Mrs. (Ma...|55.0|     2|   16.0|\n",
      "|Rice, Master. Eugene| 2.0|     3| 29.125|\n",
      "|Williams, Mr. Cha...|null|     2|   13.0|\n",
      "|Vander Planke, Mr...|31.0|     3|   18.0|\n",
      "|Masselmani, Mrs. ...|null|     3|  7.225|\n",
      "+--------------------+----+------+-------+\n",
      "only showing top 20 rows\n",
      "\n"
     ]
    }
   ],
   "source": [
    "# 리스트를 활용해서 select\n",
    "select_columns = [\"Name\",\"Age\",\"Pclass\",\"Fare\"]\n",
    "titanic_sdf.select(select_columns).show()"
   ]
  },
  {
   "cell_type": "markdown",
   "id": "8554bc39",
   "metadata": {},
   "source": [
    "### 컬럼 속성 이해하기"
   ]
  },
  {
   "cell_type": "code",
   "execution_count": 28,
   "id": "5480786a",
   "metadata": {},
   "outputs": [
    {
     "name": "stdout",
     "output_type": "stream",
     "text": [
      "Column<'Name'>\n",
      "\n",
      "+-------+-----------------+\n",
      "|   Fare|     (Fare * 100)|\n",
      "+-------+-----------------+\n",
      "|   7.25|            725.0|\n",
      "|71.2833|          7128.33|\n",
      "|  7.925|            792.5|\n",
      "|   53.1|           5310.0|\n",
      "|   8.05|805.0000000000001|\n",
      "| 8.4583|845.8299999999999|\n",
      "|51.8625|          5186.25|\n",
      "| 21.075|           2107.5|\n",
      "|11.1333|          1113.33|\n",
      "|30.0708|          3007.08|\n",
      "|   16.7|           1670.0|\n",
      "|  26.55|           2655.0|\n",
      "|   8.05|805.0000000000001|\n",
      "| 31.275|           3127.5|\n",
      "| 7.8542|           785.42|\n",
      "|   16.0|           1600.0|\n",
      "| 29.125|           2912.5|\n",
      "|   13.0|           1300.0|\n",
      "|   18.0|           1800.0|\n",
      "|  7.225|            722.5|\n",
      "+-------+-----------------+\n",
      "only showing top 20 rows\n",
      "\n"
     ]
    }
   ],
   "source": [
    "print(titanic_sdf[\"Name\"])\n",
    "\n",
    "print()\n",
    "\n",
    "titanic_sdf.select(\n",
    "    titanic_sdf[\"Fare\"],\n",
    "    titanic_sdf[\"Fare\"] * 100\n",
    ").show()\n",
    "\n",
    "\n",
    "# SQL에서 SELECT 절에 나오는 컬럼이 스카프에서의 컬럼 속성이다.\n",
    "# 예를 들어\n",
    "# (SLECT Fare, Fare * 100) 일 때\n",
    "# titanic_sdf[\"Fare\"] == Fare\n",
    "# titanic_sdf[\"Fare\"] * 100 == Fare * 100"
   ]
  },
  {
   "cell_type": "markdown",
   "id": "dcf35640",
   "metadata": {},
   "source": [
    "## ⭐⭐⭐ 스파크 데이터 프레임에서 칼럼을 다룰 때 가장 많이 사용하는 방식, `col`"
   ]
  },
  {
   "cell_type": "code",
   "execution_count": 36,
   "id": "f9982b01",
   "metadata": {},
   "outputs": [
    {
     "name": "stdout",
     "output_type": "stream",
     "text": [
      "+----+\n",
      "|Fare|\n",
      "+----+\n",
      "|7.25|\n",
      "+----+\n",
      "only showing top 1 row\n",
      "\n",
      "+------------+\n",
      "|(Fare * 100)|\n",
      "+------------+\n",
      "|       725.0|\n",
      "+------------+\n",
      "only showing top 1 row\n",
      "\n"
     ]
    }
   ],
   "source": [
    "import pyspark.sql.functions as F\n",
    "\n",
    "titanic_sdf.select(F.col(\"Fare\")).show(1)\n",
    "titanic_sdf.select(F.col(\"Fare\") * 100).show(1)"
   ]
  },
  {
   "cell_type": "code",
   "execution_count": 38,
   "id": "e64b3aba",
   "metadata": {},
   "outputs": [
    {
     "name": "stdout",
     "output_type": "stream",
     "text": [
      "+--------------------+--------------------+\n",
      "|                Name|            Cap Name|\n",
      "+--------------------+--------------------+\n",
      "|Braund, Mr. Owen ...|BRAUND, MR. OWEN ...|\n",
      "|Cumings, Mrs. Joh...|CUMINGS, MRS. JOH...|\n",
      "|Heikkinen, Miss. ...|HEIKKINEN, MISS. ...|\n",
      "+--------------------+--------------------+\n",
      "only showing top 3 rows\n",
      "\n"
     ]
    }
   ],
   "source": [
    "# upper, 대문자로 바꾸는 연산자\n",
    "\n",
    "titanic_sdf.select(\n",
    "    F.col(\"Name\"),\n",
    "    F.upper(\"Name\").alias(\"Cap Name\")\n",
    ").show(3)"
   ]
  },
  {
   "cell_type": "markdown",
   "id": "d2d49142",
   "metadata": {},
   "source": [
    "## Filter\n",
    "- SQL에서의 Where와 유사하다.\n",
    "- 조건문을 SQL과 유사한 형태로 지정 가능하다"
   ]
  },
  {
   "cell_type": "code",
   "execution_count": 45,
   "id": "ba87a52c",
   "metadata": {},
   "outputs": [
    {
     "name": "stdout",
     "output_type": "stream",
     "text": [
      "+-----------+--------+------+--------------------+----+----+-----+-----+------+------+-----+--------+\n",
      "|PassengerId|Survived|Pclass|                Name| Sex| Age|SibSp|Parch|Ticket|  Fare|Cabin|Embarked|\n",
      "+-----------+--------+------+--------------------+----+----+-----+-----+------+------+-----+--------+\n",
      "|          6|       0|     3|    Moran, Mr. James|male|null|    0|    0|330877|8.4583| null|       Q|\n",
      "|         17|       0|     3|Rice, Master. Eugene|male| 2.0|    4|    1|382652|29.125| null|       Q|\n",
      "+-----------+--------+------+--------------------+----+----+-----+-----+------+------+-----+--------+\n",
      "only showing top 2 rows\n",
      "\n",
      "+-----------+--------+------+--------------------+------+----+-----+-----+----------------+-----+-----+--------+\n",
      "|PassengerId|Survived|Pclass|                Name|   Sex| Age|SibSp|Parch|          Ticket| Fare|Cabin|Embarked|\n",
      "+-----------+--------+------+--------------------+------+----+-----+-----+----------------+-----+-----+--------+\n",
      "|          1|       0|     3|Braund, Mr. Owen ...|  male|22.0|    1|    0|       A/5 21171| 7.25| null|       S|\n",
      "|          3|       1|     3|Heikkinen, Miss. ...|female|26.0|    0|    0|STON/O2. 3101282|7.925| null|       S|\n",
      "+-----------+--------+------+--------------------+------+----+-----+-----+----------------+-----+-----+--------+\n",
      "only showing top 2 rows\n",
      "\n",
      "+-----------+--------+------+--------------------+------+----+-----+-----+------+----+-----+--------+\n",
      "|PassengerId|Survived|Pclass|                Name|   Sex| Age|SibSp|Parch|Ticket|Fare|Cabin|Embarked|\n",
      "+-----------+--------+------+--------------------+------+----+-----+-----+------+----+-----+--------+\n",
      "|          4|       1|     1|Futrelle, Mrs. Ja...|female|35.0|    1|    0|113803|53.1| C123|       S|\n",
      "+-----------+--------+------+--------------------+------+----+-----+-----+------+----+-----+--------+\n",
      "only showing top 1 row\n",
      "\n",
      "+-----------+--------+------+--------------------+----+----+-----+-----+---------+----+-----+--------+\n",
      "|PassengerId|Survived|Pclass|                Name| Sex| Age|SibSp|Parch|   Ticket|Fare|Cabin|Embarked|\n",
      "+-----------+--------+------+--------------------+----+----+-----+-----+---------+----+-----+--------+\n",
      "|          1|       0|     3|Braund, Mr. Owen ...|male|22.0|    1|    0|A/5 21171|7.25| null|       S|\n",
      "+-----------+--------+------+--------------------+----+----+-----+-----+---------+----+-----+--------+\n",
      "only showing top 1 row\n",
      "\n"
     ]
    }
   ],
   "source": [
    "titanic_sdf.filter(\n",
    "    F.col(\"Embarked\")==\"Q\"\n",
    ").show(2)\n",
    "\n",
    "# filter를 where로 바꿔도 동일한 결과가 나온다\n",
    "titanic_sdf.where(\n",
    "    F.col(\"Embarked\") == \"S\"\n",
    ").show(2)\n",
    "\n",
    "# AND, OR -> & , |\n",
    "titanic_sdf.filter(\n",
    "    (F.col(\"Embarked\") == \"S\") & (F.col(\"Pclass\") == 1)\n",
    ").show(1)\n",
    "titanic_sdf.filter(\n",
    "        (F.col(\"Embarked\") == \"S\") | (F.col(\"Pclass\") == 2)\n",
    ").show(1)"
   ]
  },
  {
   "cell_type": "code",
   "execution_count": 49,
   "id": "1d3e4823",
   "metadata": {},
   "outputs": [
    {
     "name": "stdout",
     "output_type": "stream",
     "text": [
      "+-----------+--------+------+--------------------+------+----+-----+-----+----------------+-----+-----+--------+\n",
      "|PassengerId|Survived|Pclass|                Name|   Sex| Age|SibSp|Parch|          Ticket| Fare|Cabin|Embarked|\n",
      "+-----------+--------+------+--------------------+------+----+-----+-----+----------------+-----+-----+--------+\n",
      "|          3|       1|     3|Heikkinen, Miss. ...|female|26.0|    0|    0|STON/O2. 3101282|7.925| null|       S|\n",
      "|         11|       1|     3|Sandstrom, Miss. ...|female| 4.0|    1|    1|         PP 9549| 16.7|   G6|       S|\n",
      "+-----------+--------+------+--------------------+------+----+-----+-----+----------------+-----+-----+--------+\n",
      "only showing top 2 rows\n",
      "\n",
      "+-----------+--------+------+--------------------+------+----+-----+-----+----------------+-----+-----+--------+\n",
      "|PassengerId|Survived|Pclass|                Name|   Sex| Age|SibSp|Parch|          Ticket| Fare|Cabin|Embarked|\n",
      "+-----------+--------+------+--------------------+------+----+-----+-----+----------------+-----+-----+--------+\n",
      "|          3|       1|     3|Heikkinen, Miss. ...|female|26.0|    0|    0|STON/O2. 3101282|7.925| null|       S|\n",
      "+-----------+--------+------+--------------------+------+----+-----+-----+----------------+-----+-----+--------+\n",
      "only showing top 1 row\n",
      "\n"
     ]
    }
   ],
   "source": [
    "# SQL에서 LIKE처럼 사용가능하다\n",
    "titanic_sdf.filter(\n",
    "    F.col(\"Name\").like(\"%Miss%\")\n",
    ").show(2)\n",
    "\n",
    "# 이런형태로 사용도 가능함\n",
    "titanic_sdf.filter(\n",
    "    \"Name like '%Miss%'\"\n",
    ").show(1)"
   ]
  },
  {
   "cell_type": "markdown",
   "id": "33f9d2cb",
   "metadata": {},
   "source": [
    "### 예제\n",
    "- h로 시작하는 사람의 이름을 대문자로 변환하여 출력"
   ]
  },
  {
   "cell_type": "code",
   "execution_count": 52,
   "id": "ccb20f45",
   "metadata": {},
   "outputs": [
    {
     "name": "stdout",
     "output_type": "stream",
     "text": [
      "+--------------------+\n",
      "|          집가고싶다|\n",
      "+--------------------+\n",
      "|HEIKKINEN, MISS. ...|\n",
      "|HEWLETT, MRS. (MA...|\n",
      "|HOLVERSON, MR. AL...|\n",
      "|HARPER, MRS. HENR...|\n",
      "|HARRIS, MR. HENRY...|\n",
      "|HOOD, MR. AMBROSE JR|\n",
      "|HICKMAN, MR. STAN...|\n",
      "|HAKKARAINEN, MRS....|\n",
      "|  HALE, MR. REGINALD|\n",
      "|HONKANEN, MISS. E...|\n",
      "|  HARRIS, MR. WALTER|\n",
      "|HOYT, MR. FREDERI...|\n",
      "|HARRIS, MRS. HENR...|\n",
      "|HARKNETT, MISS. A...|\n",
      "|   HOLD, MR. STEPHEN|\n",
      "|HUNT, MR. GEORGE ...|\n",
      "|HAMALAINEN, MRS. ...|\n",
      "|HARRISON, MR. WIL...|\n",
      "|  HENRY, MISS. DELIA|\n",
      "|HOSONO, MR. MASABUMI|\n",
      "+--------------------+\n",
      "only showing top 20 rows\n",
      "\n"
     ]
    }
   ],
   "source": [
    "titanic_sdf.filter(\n",
    "    F.lower(F.col('Name')).like('h%')\n",
    ").select(\n",
    "    F.upper(F.col('Name')).alias(\"집가고싶다\")\n",
    ").show()"
   ]
  },
  {
   "cell_type": "code",
   "execution_count": 53,
   "id": "9d9f29ce",
   "metadata": {},
   "outputs": [],
   "source": [
    "spark.stop()"
   ]
  }
 ],
 "metadata": {
  "kernelspec": {
   "display_name": "Python 3 (ipykernel)",
   "language": "python",
   "name": "python3"
  },
  "language_info": {
   "codemirror_mode": {
    "name": "ipython",
    "version": 3
   },
   "file_extension": ".py",
   "mimetype": "text/x-python",
   "name": "python",
   "nbconvert_exporter": "python",
   "pygments_lexer": "ipython3",
   "version": "3.8.18"
  }
 },
 "nbformat": 4,
 "nbformat_minor": 5
}
