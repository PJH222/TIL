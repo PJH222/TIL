{
 "cells": [
  {
   "cell_type": "code",
   "execution_count": 6,
   "id": "605e222e",
   "metadata": {},
   "outputs": [
    {
     "name": "stderr",
     "output_type": "stream",
     "text": [
      "24/03/27 13:23:48 WARN Utils: Service 'SparkUI' could not bind on port 4040. Attempting port 4041.\n"
     ]
    },
    {
     "data": {
      "text/html": [
       "\n",
       "        <div>\n",
       "            <p><b>SparkContext</b></p>\n",
       "\n",
       "            <p><a href=\"http://0.0.0.0:4041\">Spark UI</a></p>\n",
       "\n",
       "            <dl>\n",
       "              <dt>Version</dt>\n",
       "                <dd><code>v3.2.4</code></dd>\n",
       "              <dt>Master</dt>\n",
       "                <dd><code>local</code></dd>\n",
       "              <dt>AppName</dt>\n",
       "                <dd><code>reduction-op</code></dd>\n",
       "            </dl>\n",
       "        </div>\n",
       "        "
      ],
      "text/plain": [
       "<SparkContext master=local appName=reduction-op>"
      ]
     },
     "execution_count": 6,
     "metadata": {},
     "output_type": "execute_result"
    }
   ],
   "source": [
    "from pyspark import SparkConf, SparkContext\n",
    "\n",
    "conf = SparkConf().setMaster(\"local\").setAppName(\"reduction-op\")\n",
    "sc = SparkContext(conf=conf)\n",
    "\n",
    "sc"
   ]
  },
  {
   "cell_type": "code",
   "execution_count": 7,
   "id": "6cb57ab4",
   "metadata": {},
   "outputs": [
    {
     "data": {
      "text/plain": [
       "ParallelCollectionRDD[0] at readRDDFromFile at PythonRDD.scala:274"
      ]
     },
     "execution_count": 7,
     "metadata": {},
     "output_type": "execute_result"
    }
   ],
   "source": [
    "sample_rdd = sc.parallelize([1,2,3,4,5])\n",
    "sample_rdd"
   ]
  },
  {
   "cell_type": "code",
   "execution_count": 9,
   "id": "ee9868f8",
   "metadata": {},
   "outputs": [
    {
     "data": {
      "text/plain": [
       "15"
      ]
     },
     "execution_count": 9,
     "metadata": {},
     "output_type": "execute_result"
    }
   ],
   "source": [
    "sample_rdd.reduce(lambda x,y : x+y)"
   ]
  },
  {
   "cell_type": "markdown",
   "id": "30523e71",
   "metadata": {},
   "source": [
    "# 파티션에 따라 결과물이 달라진다.\n",
    "- 분산된 파티션들의 연산과 합치는 부분을 나눠서 생각해야 함\n",
    "    `lambda x,y : (x*2) + y`"
   ]
  },
  {
   "cell_type": "code",
   "execution_count": 13,
   "id": "d3e78912",
   "metadata": {},
   "outputs": [
    {
     "data": {
      "text/plain": [
       "26"
      ]
     },
     "execution_count": 13,
     "metadata": {},
     "output_type": "execute_result"
    }
   ],
   "source": [
    "# 파티션이 1개인 경우\n",
    "sc.parallelize([1,2,3,4]).reduce(lambda x,y : (x * 2) + y)"
   ]
  },
  {
   "cell_type": "code",
   "execution_count": 15,
   "id": "0b9da35e",
   "metadata": {},
   "outputs": [
    {
     "data": {
      "text/plain": [
       "18"
      ]
     },
     "execution_count": 15,
     "metadata": {},
     "output_type": "execute_result"
    }
   ],
   "source": [
    "# 파티션이 2개인 경우\n",
    "sc.parallelize([1,2,3,4],2).reduce(lambda x,y : (x * 2) + y)"
   ]
  },
  {
   "cell_type": "code",
   "execution_count": 17,
   "id": "bb63da2c",
   "metadata": {},
   "outputs": [
    {
     "data": {
      "text/plain": [
       "[[1, 2], [3, 4]]"
      ]
     },
     "execution_count": 17,
     "metadata": {},
     "output_type": "execute_result"
    }
   ],
   "source": [
    "rdd = sc.parallelize([1,2,3,4],2)\n",
    "rdd.glom().collect()"
   ]
  },
  {
   "cell_type": "code",
   "execution_count": 19,
   "id": "43a3d4dd",
   "metadata": {},
   "outputs": [
    {
     "data": {
      "text/plain": [
       "18"
      ]
     },
     "execution_count": 19,
     "metadata": {},
     "output_type": "execute_result"
    }
   ],
   "source": [
    "# 파티션이 3개인 경우\n",
    "sc.parallelize([1,2,3,4],3).reduce(lambda x,y : (x * 2) + y)\n",
    "\n",
    "# sc.parallelize([1,2,3,4],3).glom().collect()"
   ]
  },
  {
   "cell_type": "code",
   "execution_count": 21,
   "id": "ed42ad7c",
   "metadata": {},
   "outputs": [
    {
     "data": {
      "text/plain": [
       "26"
      ]
     },
     "execution_count": 21,
     "metadata": {},
     "output_type": "execute_result"
    }
   ],
   "source": [
    "# 파티션이 4개인 경우\n",
    "sc.parallelize([1,2,3,4],4).reduce(lambda x,y : (x * 2) + y) \n",
    "\n",
    "# 파티션 1개인 경우와 결과는 같지만\n",
    "# 병렬처리가 가능해진다!"
   ]
  },
  {
   "cell_type": "markdown",
   "id": "6deb06db",
   "metadata": {},
   "source": [
    "# Fold\n",
    "- RDD.fold(zeroValue, <task>)\n",
    "- `reduce`와 비슷하지만, 시작값을 `zeroValue`에 넣어놓고 `reduce`할 수 있다."
   ]
  },
  {
   "cell_type": "code",
   "execution_count": 23,
   "id": "2bd70995",
   "metadata": {},
   "outputs": [
    {
     "data": {
      "text/plain": [
       "[[], [2], [3], [4]]"
      ]
     },
     "execution_count": 23,
     "metadata": {},
     "output_type": "execute_result"
    }
   ],
   "source": [
    "rdd = sc.parallelize([2,3,4],4)\n",
    "rdd.glom().collect()"
   ]
  },
  {
   "cell_type": "code",
   "execution_count": 25,
   "id": "d38c7860",
   "metadata": {},
   "outputs": [
    {
     "data": {
      "text/plain": [
       "24"
      ]
     },
     "execution_count": 25,
     "metadata": {},
     "output_type": "execute_result"
    }
   ],
   "source": [
    "rdd.reduce(lambda x , y : x * y) # [] * 2*3*4 = 24 , 만약 없는애가 있으면 그냥 넘어감"
   ]
  },
  {
   "cell_type": "code",
   "execution_count": 28,
   "id": "30ef8cf0",
   "metadata": {},
   "outputs": [
    {
     "data": {
      "text/plain": [
       "24"
      ]
     },
     "execution_count": 28,
     "metadata": {},
     "output_type": "execute_result"
    }
   ],
   "source": [
    "rdd.fold(1, lambda x,y : x*y)  # [1*1] * [1*2] * [1*3] * [1*4] = 24 , fold는 없는 애를 억지로 실행시키려고 1*1을 넣어버림"
   ]
  },
  {
   "cell_type": "code",
   "execution_count": 29,
   "id": "8dbe7cb8",
   "metadata": {},
   "outputs": [
    {
     "data": {
      "text/plain": [
       "9"
      ]
     },
     "execution_count": 29,
     "metadata": {},
     "output_type": "execute_result"
    }
   ],
   "source": [
    "rdd.reduce(lambda x,y : x+y) #  []+ [2] + [3] + [4] -> 2 + 3 + 4 = 9"
   ]
  },
  {
   "cell_type": "code",
   "execution_count": 33,
   "id": "a718807a",
   "metadata": {},
   "outputs": [
    {
     "data": {
      "text/plain": [
       "14"
      ]
     },
     "execution_count": 33,
     "metadata": {},
     "output_type": "execute_result"
    }
   ],
   "source": [
    "rdd.fold(1, lambda x , y : x + y) # [] + [2] + [3] + [4] ->  [1+1] + [1+2] + [1+3] + [1+4] = 14"
   ]
  },
  {
   "cell_type": "markdown",
   "id": "056500e2",
   "metadata": {},
   "source": [
    "# aggeeregate(action)\n",
    "- RDD.aggregate(zeroValue, seqOp, combOp)\n",
    "    - zeroValue : 각 파티션에서 누적할 시작값\n",
    "    - seqOp : 타입 변경 함수. 파티션 내부에서 사용할 task\n",
    "    - combOp : 합치는 함수. 파티션끼리 사용할 task"
   ]
  },
  {
   "cell_type": "code",
   "execution_count": 34,
   "id": "36e0d589",
   "metadata": {},
   "outputs": [
    {
     "data": {
      "text/plain": [
       "[[1, 2], [3, 4]]"
      ]
     },
     "execution_count": 34,
     "metadata": {},
     "output_type": "execute_result"
    }
   ],
   "source": [
    "rdd = sc.parallelize([1,2,3,4],2)\n",
    "rdd.glom().collect()"
   ]
  },
  {
   "cell_type": "code",
   "execution_count": 35,
   "id": "64d5c796",
   "metadata": {},
   "outputs": [],
   "source": [
    "seqOp = lambda x,y : (x[0]+y, x[1]+1) # 파티션 내의 reduce task\n",
    "combOp = lambda x,y : (x[0]+y[0],x[1]+y[1]) # 파티션 연산 결과에 대한 reduce task"
   ]
  },
  {
   "cell_type": "code",
   "execution_count": 36,
   "id": "0948bbc6",
   "metadata": {},
   "outputs": [
    {
     "data": {
      "text/plain": [
       "(10, 4)"
      ]
     },
     "execution_count": 36,
     "metadata": {},
     "output_type": "execute_result"
    }
   ],
   "source": [
    "rdd.aggregate((0,0),seqOp,combOp)"
   ]
  },
  {
   "cell_type": "markdown",
   "id": "8827be0b",
   "metadata": {},
   "source": [
    "# 연산 순서\n",
    "z -> (0,0)\n",
    "1. x -> (0,0), y -> 1\n",
    "  => (0+1, 0+1)\n",
    " \n",
    "2. x = (1,1), y = 2\n",
    "  => (1+2, 1+1)\n",
    "----  \n",
    "1. x = (0,0), y = 3\n",
    "  => (0+3, 0+1)\n",
    "\n",
    "2. x = (3,1), y = 4\n",
    "  => (3+4 , 1+1)\n",
    "---\n",
    "- 결론 x= (3,2) y= (7,2)\n",
    "  => (3 + 7 , 2 + 2)\n",
    "  = 10 , 4"
   ]
  },
  {
   "cell_type": "code",
   "execution_count": 38,
   "id": "8ca99aa4",
   "metadata": {},
   "outputs": [],
   "source": [
    "sc.stop()"
   ]
  },
  {
   "cell_type": "code",
   "execution_count": null,
   "id": "80268e36",
   "metadata": {},
   "outputs": [],
   "source": []
  }
 ],
 "metadata": {
  "kernelspec": {
   "display_name": "Python 3 (ipykernel)",
   "language": "python",
   "name": "python3"
  },
  "language_info": {
   "codemirror_mode": {
    "name": "ipython",
    "version": 3
   },
   "file_extension": ".py",
   "mimetype": "text/x-python",
   "name": "python",
   "nbconvert_exporter": "python",
   "pygments_lexer": "ipython3",
   "version": "3.8.18"
  }
 },
 "nbformat": 4,
 "nbformat_minor": 5
}
