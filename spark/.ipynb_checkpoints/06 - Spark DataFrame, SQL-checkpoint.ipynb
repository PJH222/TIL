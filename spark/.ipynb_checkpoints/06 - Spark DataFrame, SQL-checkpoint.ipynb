{
 "cells": [
  {
   "cell_type": "code",
   "execution_count": 1,
   "id": "c4adac6f",
   "metadata": {},
   "outputs": [
    {
     "name": "stderr",
     "output_type": "stream",
     "text": [
      "Using Spark's default log4j profile: org/apache/spark/log4j-defaults.properties\n",
      "Setting default log level to \"WARN\".\n",
      "To adjust logging level use sc.setLogLevel(newLevel). For SparkR, use setLogLevel(newLevel).\n",
      "24/03/28 09:43:23 WARN NativeCodeLoader: Unable to load native-hadoop library for your platform... using builtin-java classes where applicable\n"
     ]
    },
    {
     "data": {
      "text/html": [
       "\n",
       "        <div>\n",
       "            <p><b>SparkContext</b></p>\n",
       "\n",
       "            <p><a href=\"http://0.0.0.0:4040\">Spark UI</a></p>\n",
       "\n",
       "            <dl>\n",
       "              <dt>Version</dt>\n",
       "                <dd><code>v3.2.4</code></dd>\n",
       "              <dt>Master</dt>\n",
       "                <dd><code>local</code></dd>\n",
       "              <dt>AppName</dt>\n",
       "                <dd><code>spark_sql_basic</code></dd>\n",
       "            </dl>\n",
       "        </div>\n",
       "        "
      ],
      "text/plain": [
       "<SparkContext master=local appName=spark_sql_basic>"
      ]
     },
     "execution_count": 1,
     "metadata": {},
     "output_type": "execute_result"
    }
   ],
   "source": [
    "from pyspark import SparkConf, SparkContext\n",
    "\n",
    "conf = SparkConf().setMaster(\"local\").setAppName(\"spark_sql_basic\")\n",
    "sc = SparkContext(conf=conf)\n",
    "sc"
   ]
  },
  {
   "cell_type": "code",
   "execution_count": 2,
   "id": "14581e43",
   "metadata": {},
   "outputs": [],
   "source": [
    "movies_rdd = sc.parallelize([\n",
    "    (1, (\"어벤져스\", \"마블\")),\n",
    "    (2, (\"슈퍼맨\", \"DC\")),\n",
    "    (3, (\"배트맨\", \"DC\")),\n",
    "    (4, (\"겨울왕국\", \"디즈니\")),\n",
    "    (5, (\"아이언맨\", \"마블\"))\n",
    "])\n",
    "\n",
    "attendances_rdd = sc.parallelize([\n",
    "    (1, (13934592, \"KR\")),\n",
    "    (2, (2182227,\"KR\")),\n",
    "    (3, (4226242, \"KR\")),\n",
    "    (4, (10303058, \"KR\")),\n",
    "    (5, (4300365, \"KR\"))\n",
    "])"
   ]
  },
  {
   "cell_type": "code",
   "execution_count": 3,
   "id": "45419381",
   "metadata": {},
   "outputs": [],
   "source": [
    "# 마블 영화 중 관객수가 500만 이상인 영화 가져오기"
   ]
  },
  {
   "cell_type": "code",
   "execution_count": 5,
   "id": "ad85e8a0",
   "metadata": {},
   "outputs": [
    {
     "data": {
      "text/plain": [
       "[(1, (('어벤져스', '마블'), (13934592, 'KR')))]"
      ]
     },
     "execution_count": 5,
     "metadata": {},
     "output_type": "execute_result"
    }
   ],
   "source": [
    "movies = movies_rdd.join(attendances_rdd)\n",
    "movies.filter(lambda x : x[1][0][1]=='마블' and x[1][1][0] >= 5000000).collect()\n"
   ]
  },
  {
   "cell_type": "code",
   "execution_count": 6,
   "id": "e51f95c1",
   "metadata": {},
   "outputs": [],
   "source": [
    "# movies2 = movies_rdd.filter(lambda x : x[1][1] == \"마블\")\n",
    "# filter"
   ]
  },
  {
   "cell_type": "code",
   "execution_count": 7,
   "id": "21090125",
   "metadata": {},
   "outputs": [],
   "source": [
    "sc.stop()"
   ]
  },
  {
   "cell_type": "markdown",
   "id": "b47f8a4d",
   "metadata": {},
   "source": [
    "# SparkSession 생성\n",
    "- SparkContext에 해당하며, 새로운 스파크 어플리에키션을 만들어준다."
   ]
  },
  {
   "cell_type": "code",
   "execution_count": 10,
   "id": "855857e1",
   "metadata": {},
   "outputs": [
    {
     "data": {
      "text/html": [
       "\n",
       "            <div>\n",
       "                <p><b>SparkSession - in-memory</b></p>\n",
       "                \n",
       "        <div>\n",
       "            <p><b>SparkContext</b></p>\n",
       "\n",
       "            <p><a href=\"http://0.0.0.0:4040\">Spark UI</a></p>\n",
       "\n",
       "            <dl>\n",
       "              <dt>Version</dt>\n",
       "                <dd><code>v3.2.4</code></dd>\n",
       "              <dt>Master</dt>\n",
       "                <dd><code>local</code></dd>\n",
       "              <dt>AppName</dt>\n",
       "                <dd><code>spark-sql</code></dd>\n",
       "            </dl>\n",
       "        </div>\n",
       "        \n",
       "            </div>\n",
       "        "
      ],
      "text/plain": [
       "<pyspark.sql.session.SparkSession at 0x7f6364229fa0>"
      ]
     },
     "execution_count": 10,
     "metadata": {},
     "output_type": "execute_result"
    }
   ],
   "source": [
    "from pyspark.sql import SparkSession\n",
    "\n",
    "spark = SparkSession.builder.master(\"local\").appName(\"spark-sql\").getOrCreate()\n",
    "spark"
   ]
  },
  {
   "cell_type": "code",
   "execution_count": 11,
   "id": "b7fed63e",
   "metadata": {},
   "outputs": [],
   "source": [
    "movies = [\n",
    "    (1, \"어벤져스\", \"마블\", 2012, 4, 26),\n",
    "    (2, \"슈퍼맨\", \"DC\", 2013, 6, 13),\n",
    "    (3, \"배트맨\", \"DC\", 2008, 8, 6),\n",
    "    (4, \"겨울왕국\", \"디즈니\", 2014, 1, 16),\n",
    "    (5, \"아이언맨\", \"마블\", 2008, 4, 30)\n",
    "]"
   ]
  },
  {
   "cell_type": "code",
   "execution_count": 12,
   "id": "ea0a1d61",
   "metadata": {},
   "outputs": [],
   "source": [
    "movie_schema = [\"id\",\"name\",\"company\",\"year\",\"month\",\"day\"]"
   ]
  },
  {
   "cell_type": "markdown",
   "id": "3eb9f998",
   "metadata": {},
   "source": [
    "# 2. 데이터 프레임 생성"
   ]
  },
  {
   "cell_type": "code",
   "execution_count": 16,
   "id": "49b0acaa",
   "metadata": {},
   "outputs": [
    {
     "data": {
      "text/plain": [
       "DataFrame[id: bigint, name: string, company: string, year: bigint, month: bigint, day: bigint]"
      ]
     },
     "execution_count": 16,
     "metadata": {},
     "output_type": "execute_result"
    }
   ],
   "source": [
    "movie_sdf = spark.createDataFrame(data=movies, schema = movie_schema)\n",
    "movie_sdf \n",
    "# 판다스와 스파크 데이터 프레임의 차이점은, 이렇게 정의한다고 해서 만들어지는 것이 아님\n",
    "# 앞서 RDD에서 그래왔듯이 action을 해야 만들어짐"
   ]
  },
  {
   "cell_type": "code",
   "execution_count": 19,
   "id": "277c39d9",
   "metadata": {},
   "outputs": [
    {
     "data": {
      "text/plain": [
       "[('id', 'bigint'),\n",
       " ('name', 'string'),\n",
       " ('company', 'string'),\n",
       " ('year', 'bigint'),\n",
       " ('month', 'bigint'),\n",
       " ('day', 'bigint')]"
      ]
     },
     "execution_count": 19,
     "metadata": {},
     "output_type": "execute_result"
    }
   ],
   "source": [
    "# 스키마 정보 확인\n",
    "movie_sdf.dtypes # 컬럼의 자료형 출력"
   ]
  },
  {
   "cell_type": "code",
   "execution_count": 23,
   "id": "a7c0466c",
   "metadata": {
    "scrolled": true
   },
   "outputs": [
    {
     "name": "stdout",
     "output_type": "stream",
     "text": [
      "+---+--------+-------+----+-----+---+\n",
      "| id|    name|company|year|month|day|\n",
      "+---+--------+-------+----+-----+---+\n",
      "|  1|어벤져스|   마블|2012|    4| 26|\n",
      "|  2|  슈퍼맨|     DC|2013|    6| 13|\n",
      "|  3|  배트맨|     DC|2008|    8|  6|\n",
      "|  4|겨울왕국| 디즈니|2014|    1| 16|\n",
      "|  5|아이언맨|   마블|2008|    4| 30|\n",
      "+---+--------+-------+----+-----+---+\n",
      "\n"
     ]
    }
   ],
   "source": [
    "# collect()에 해당하는 show() -> show 는 action이다!\n",
    "movie_sdf.show()"
   ]
  },
  {
   "cell_type": "markdown",
   "id": "d7026cd2",
   "metadata": {},
   "source": [
    "# 3. Spark SQL 사용하기\n",
    "- `createOrReplaceTempView(view의 이름 기입)` 함수를 이용해서 데이터프레임에 SQL을 사용할 수 있는 View를 만들어 준다."
   ]
  },
  {
   "cell_type": "code",
   "execution_count": 25,
   "id": "958e0566",
   "metadata": {},
   "outputs": [],
   "source": [
    "movie_sdf.createOrReplaceTempView(\"movies\")"
   ]
  },
  {
   "cell_type": "code",
   "execution_count": 43,
   "id": "e2a2f138",
   "metadata": {},
   "outputs": [
    {
     "name": "stdout",
     "output_type": "stream",
     "text": [
      "+--------+\n",
      "|    name|\n",
      "+--------+\n",
      "|어벤져스|\n",
      "|  슈퍼맨|\n",
      "|  배트맨|\n",
      "|겨울왕국|\n",
      "|아이언맨|\n",
      "+--------+\n",
      "\n"
     ]
    }
   ],
   "source": [
    "query = \"\"\"\n",
    "SELECT name\n",
    "FROM movies\n",
    "\"\"\"\n",
    "\n",
    "# 쿼리 실행하기 (Transformations)\n",
    "result = spark.sql(query)"
   ]
  },
  {
   "cell_type": "code",
   "execution_count": 44,
   "id": "936622ac",
   "metadata": {},
   "outputs": [
    {
     "name": "stdout",
     "output_type": "stream",
     "text": [
      "+--------+\n",
      "|    name|\n",
      "+--------+\n",
      "|어벤져스|\n",
      "|  슈퍼맨|\n",
      "|  배트맨|\n",
      "|겨울왕국|\n",
      "|아이언맨|\n",
      "+--------+\n",
      "\n"
     ]
    }
   ],
   "source": [
    "result.show()"
   ]
  },
  {
   "cell_type": "code",
   "execution_count": 53,
   "id": "ac3fbfce",
   "metadata": {},
   "outputs": [
    {
     "name": "stdout",
     "output_type": "stream",
     "text": [
      "+--------+----+-----+---+\n",
      "|    name|year|month|day|\n",
      "+--------+----+-----+---+\n",
      "|어벤져스|2012|    4| 26|\n",
      "|  슈퍼맨|2013|    6| 13|\n",
      "|  배트맨|2008|    8|  6|\n",
      "|겨울왕국|2014|    1| 16|\n",
      "|아이언맨|2008|    4| 30|\n",
      "+--------+----+-----+---+\n",
      "\n"
     ]
    }
   ],
   "source": [
    "# 영화 이름, 개봉 연도 가져오기\n",
    "query1 = \"\"\"\n",
    "SELECT name,year,month,day\n",
    "FROM movies\n",
    "\"\"\"\n",
    "spark.sql(query1).show()"
   ]
  },
  {
   "cell_type": "code",
   "execution_count": 56,
   "id": "7ea22e84",
   "metadata": {},
   "outputs": [
    {
     "name": "stdout",
     "output_type": "stream",
     "text": [
      "+---+--------+-------+----+-----+---+\n",
      "| id|    name|company|year|month|day|\n",
      "+---+--------+-------+----+-----+---+\n",
      "|  1|어벤져스|   마블|2012|    4| 26|\n",
      "|  2|  슈퍼맨|     DC|2013|    6| 13|\n",
      "|  4|겨울왕국| 디즈니|2014|    1| 16|\n",
      "+---+--------+-------+----+-----+---+\n",
      "\n"
     ]
    }
   ],
   "source": [
    "# 2010년도 이후에 개봉한 영화의 모든 정보\n",
    "query2 = \"\"\"\n",
    "SELECT *\n",
    "FROM MOVIES\n",
    "WHERE YEAR > 2010\n",
    "\"\"\"\n",
    "spark.sql(query2).show()"
   ]
  },
  {
   "cell_type": "code",
   "execution_count": 58,
   "id": "8c0578e3",
   "metadata": {},
   "outputs": [
    {
     "name": "stdout",
     "output_type": "stream",
     "text": [
      "+---+--------+-------+----+-----+---+\n",
      "| id|    name|company|year|month|day|\n",
      "+---+--------+-------+----+-----+---+\n",
      "|  1|어벤져스|   마블|2012|    4| 26|\n",
      "+---+--------+-------+----+-----+---+\n",
      "\n"
     ]
    }
   ],
   "source": [
    "# 2010년도 이후에 개봉한 마블 영화의 모든정보\n",
    "query3 = \"\"\"\n",
    "SELECT *\n",
    "FROM MOVIES\n",
    "WHERE COMPANY = \"마블\"\n",
    "    AND YEAR > 2010\n",
    "\"\"\"\n",
    "\n",
    "spark.sql(query3).show()"
   ]
  },
  {
   "cell_type": "code",
   "execution_count": 60,
   "id": "9e15a59a",
   "metadata": {},
   "outputs": [
    {
     "name": "stdout",
     "output_type": "stream",
     "text": [
      "+---+--------+-------+----+-----+---+\n",
      "| id|    name|company|year|month|day|\n",
      "+---+--------+-------+----+-----+---+\n",
      "|  2|  슈퍼맨|     DC|2013|    6| 13|\n",
      "|  3|  배트맨|     DC|2008|    8|  6|\n",
      "|  5|아이언맨|   마블|2008|    4| 30|\n",
      "+---+--------+-------+----+-----+---+\n",
      "\n"
     ]
    }
   ],
   "source": [
    "# ~맨으로 끝나는 영화의 모든 정보\n",
    "query4 = \"\"\"\n",
    "SELECT *\n",
    "FROM MOVIES\n",
    "WHERE SUBSTR(NAME,-1,1) = \"맨\"\n",
    "\"\"\"\n",
    "spark.sql(query4).show()"
   ]
  },
  {
   "cell_type": "code",
   "execution_count": 71,
   "id": "489ff06c",
   "metadata": {},
   "outputs": [
    {
     "name": "stdout",
     "output_type": "stream",
     "text": [
      "+---+--------+-------+----+-----+---+\n",
      "| id|    name|company|year|month|day|\n",
      "+---+--------+-------+----+-----+---+\n",
      "|  1|어벤져스|   마블|2012|    4| 26|\n",
      "+---+--------+-------+----+-----+---+\n",
      "\n"
     ]
    }
   ],
   "source": [
    "# id가 3번인 영화보다 늦게 개봉한 마블영화의 모든 정보(연도만 고려할 것)\n",
    "\n",
    "query5 = \"\"\"\n",
    "SELECT *\n",
    "FROM MOVIES\n",
    "WHERE COMPANY = \"마블\"\n",
    "    AND YEAR > (SELECT YEAR\n",
    "                FROM MOVIES\n",
    "                WHERE ID = 3)\n",
    "\"\"\"\n",
    "spark.sql(query5).show()"
   ]
  },
  {
   "cell_type": "markdown",
   "id": "3d1ecf47",
   "metadata": {},
   "source": [
    "# JOIN 구현"
   ]
  },
  {
   "cell_type": "code",
   "execution_count": 72,
   "id": "0ac07d6a",
   "metadata": {},
   "outputs": [],
   "source": [
    "attendances = [\n",
    "    (1, 13934592., \"KR\"),\n",
    "    (2, 2182227.,\"KR\"),\n",
    "    (3, 4226242., \"KR\"),\n",
    "    (4, 10303058., \"KR\"),\n",
    "    (5, 4300365., \"KR\")\n",
    "]"
   ]
  },
  {
   "cell_type": "code",
   "execution_count": 76,
   "id": "dd87f08c",
   "metadata": {},
   "outputs": [],
   "source": [
    "# 자료형 타입 불러오기\n",
    "from pyspark.sql.types import StringType, FloatType, IntegerType  # << 컬럼의 데이터 타입임\n",
    "\n",
    "# 구조를 만들기 위한 타입 불러오기(필수), 칼럼 순서 등\n",
    "from pyspark.sql.types import StructField, StructType # StructField는 칼럼을 의미하고, StructType은 데이터프레임을 의미"
   ]
  },
  {
   "cell_type": "code",
   "execution_count": 78,
   "id": "96914708",
   "metadata": {},
   "outputs": [],
   "source": [
    "att_schema = StructType([\n",
    "    StructField(\"id\",IntegerType(),True),\n",
    "    StructField(\"attendance\",FloatType(),True),\n",
    "    StructField(\"country\",StringType(),True)\n",
    "])"
   ]
  },
  {
   "cell_type": "code",
   "execution_count": 80,
   "id": "35bd51f9",
   "metadata": {},
   "outputs": [
    {
     "data": {
      "text/plain": [
       "DataFrame[id: int, attendance: float, country: string]"
      ]
     },
     "execution_count": 80,
     "metadata": {},
     "output_type": "execute_result"
    }
   ],
   "source": [
    "att_df = spark.createDataFrame(data=attendances, schema=att_schema)\n",
    "att_df"
   ]
  },
  {
   "cell_type": "code",
   "execution_count": 82,
   "id": "bfd83dc9",
   "metadata": {},
   "outputs": [
    {
     "name": "stdout",
     "output_type": "stream",
     "text": [
      "+---+-----------+-------+\n",
      "| id| attendance|country|\n",
      "+---+-----------+-------+\n",
      "|  1|1.3934592E7|     KR|\n",
      "|  2|  2182227.0|     KR|\n",
      "|  3|  4226242.0|     KR|\n",
      "|  4|1.0303058E7|     KR|\n",
      "|  5|  4300365.0|     KR|\n",
      "+---+-----------+-------+\n",
      "\n"
     ]
    }
   ],
   "source": [
    "att_df.show()"
   ]
  },
  {
   "cell_type": "code",
   "execution_count": 83,
   "id": "522b601a",
   "metadata": {},
   "outputs": [],
   "source": [
    "att_df.createOrReplaceTempView(\"att\")"
   ]
  },
  {
   "cell_type": "code",
   "execution_count": 89,
   "id": "484888da",
   "metadata": {},
   "outputs": [
    {
     "name": "stdout",
     "output_type": "stream",
     "text": [
      "+---+-----------+-------+---+--------+-------+----+-----+---+\n",
      "| id| attendance|country| id|    name|company|year|month|day|\n",
      "+---+-----------+-------+---+--------+-------+----+-----+---+\n",
      "|  1|1.3934592E7|     KR|  1|어벤져스|   마블|2012|    4| 26|\n",
      "|  2|  2182227.0|     KR|  2|  슈퍼맨|     DC|2013|    6| 13|\n",
      "|  3|  4226242.0|     KR|  3|  배트맨|     DC|2008|    8|  6|\n",
      "|  4|1.0303058E7|     KR|  4|겨울왕국| 디즈니|2014|    1| 16|\n",
      "|  5|  4300365.0|     KR|  5|아이언맨|   마블|2008|    4| 30|\n",
      "+---+-----------+-------+---+--------+-------+----+-----+---+\n",
      "\n"
     ]
    }
   ],
   "source": [
    "# movies, att id를 기반으로 join\n",
    "\n",
    "query = \"\"\"\n",
    "SELECT *\n",
    "FROM att a, movies b\n",
    "WHERE a.id = b.id\n",
    "ORDER BY a.id \n",
    "\"\"\"\n",
    "spark.sql(query).show()"
   ]
  },
  {
   "cell_type": "code",
   "execution_count": 90,
   "id": "5cf04b97",
   "metadata": {},
   "outputs": [],
   "source": [
    "spark.stop()"
   ]
  },
  {
   "cell_type": "code",
   "execution_count": null,
   "id": "f932d07e",
   "metadata": {},
   "outputs": [],
   "source": []
  }
 ],
 "metadata": {
  "kernelspec": {
   "display_name": "Python 3 (ipykernel)",
   "language": "python",
   "name": "python3"
  },
  "language_info": {
   "codemirror_mode": {
    "name": "ipython",
    "version": 3
   },
   "file_extension": ".py",
   "mimetype": "text/x-python",
   "name": "python",
   "nbconvert_exporter": "python",
   "pygments_lexer": "ipython3",
   "version": "3.8.18"
  }
 },
 "nbformat": 4,
 "nbformat_minor": 5
}
