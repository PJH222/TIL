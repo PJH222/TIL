{
 "cells": [
  {
   "cell_type": "code",
   "execution_count": 1,
   "id": "fc4dc15c",
   "metadata": {},
   "outputs": [
    {
     "name": "stderr",
     "output_type": "stream",
     "text": [
      "Using Spark's default log4j profile: org/apache/spark/log4j-defaults.properties\n",
      "Setting default log level to \"WARN\".\n",
      "To adjust logging level use sc.setLogLevel(newLevel). For SparkR, use setLogLevel(newLevel).\n",
      "24/03/28 14:32:49 WARN NativeCodeLoader: Unable to load native-hadoop library for your platform... using builtin-java classes where applicable\n"
     ]
    },
    {
     "data": {
      "text/html": [
       "\n",
       "            <div>\n",
       "                <p><b>SparkSession - in-memory</b></p>\n",
       "                \n",
       "        <div>\n",
       "            <p><b>SparkContext</b></p>\n",
       "\n",
       "            <p><a href=\"http://0.0.0.0:4040\">Spark UI</a></p>\n",
       "\n",
       "            <dl>\n",
       "              <dt>Version</dt>\n",
       "                <dd><code>v3.2.4</code></dd>\n",
       "              <dt>Master</dt>\n",
       "                <dd><code>local</code></dd>\n",
       "              <dt>AppName</dt>\n",
       "                <dd><code>spark-dataframe</code></dd>\n",
       "            </dl>\n",
       "        </div>\n",
       "        \n",
       "            </div>\n",
       "        "
      ],
      "text/plain": [
       "<pyspark.sql.session.SparkSession at 0x7f5970b7dca0>"
      ]
     },
     "execution_count": 1,
     "metadata": {},
     "output_type": "execute_result"
    }
   ],
   "source": [
    "from pyspark.sql import SparkSession\n",
    "\n",
    "spark= SparkSession.builder.master(\"local\").appName(\"spark-dataframe\").getOrCreate()\n",
    "spark"
   ]
  },
  {
   "cell_type": "code",
   "execution_count": 2,
   "id": "4018693f",
   "metadata": {},
   "outputs": [
    {
     "name": "stderr",
     "output_type": "stream",
     "text": [
      "                                                                                \r"
     ]
    }
   ],
   "source": [
    "filepath = \"/home/ubuntu/working/spark/data/titanic_train.csv\"\n",
    "\n",
    "titanic_sdf = spark.read.csv(filepath, inferSchema=True,header=True)"
   ]
  },
  {
   "cell_type": "code",
   "execution_count": 4,
   "id": "e08ce4c5",
   "metadata": {},
   "outputs": [],
   "source": [
    "import pandas as pd\n",
    "\n",
    "titanic_pdf = pd.read_csv(filepath)"
   ]
  },
  {
   "cell_type": "code",
   "execution_count": 7,
   "id": "de3985d2",
   "metadata": {},
   "outputs": [],
   "source": [
    "# titanic_sdf.show()"
   ]
  },
  {
   "cell_type": "markdown",
   "id": "b45a5e3f",
   "metadata": {},
   "source": [
    "# Order by"
   ]
  },
  {
   "cell_type": "code",
   "execution_count": 9,
   "id": "e2156e8f",
   "metadata": {},
   "outputs": [],
   "source": [
    "# pandas는 sort_values를 활용한다."
   ]
  },
  {
   "cell_type": "code",
   "execution_count": 12,
   "id": "383db20a",
   "metadata": {},
   "outputs": [
    {
     "data": {
      "text/html": [
       "<div>\n",
       "<style scoped>\n",
       "    .dataframe tbody tr th:only-of-type {\n",
       "        vertical-align: middle;\n",
       "    }\n",
       "\n",
       "    .dataframe tbody tr th {\n",
       "        vertical-align: top;\n",
       "    }\n",
       "\n",
       "    .dataframe thead th {\n",
       "        text-align: right;\n",
       "    }\n",
       "</style>\n",
       "<table border=\"1\" class=\"dataframe\">\n",
       "  <thead>\n",
       "    <tr style=\"text-align: right;\">\n",
       "      <th></th>\n",
       "      <th>PassengerId</th>\n",
       "      <th>Survived</th>\n",
       "      <th>Pclass</th>\n",
       "      <th>Name</th>\n",
       "      <th>Sex</th>\n",
       "      <th>Age</th>\n",
       "      <th>SibSp</th>\n",
       "      <th>Parch</th>\n",
       "      <th>Ticket</th>\n",
       "      <th>Fare</th>\n",
       "      <th>Cabin</th>\n",
       "      <th>Embarked</th>\n",
       "    </tr>\n",
       "  </thead>\n",
       "  <tbody>\n",
       "    <tr>\n",
       "      <th>305</th>\n",
       "      <td>306</td>\n",
       "      <td>1</td>\n",
       "      <td>1</td>\n",
       "      <td>Allison, Master. Hudson Trevor</td>\n",
       "      <td>male</td>\n",
       "      <td>0.92</td>\n",
       "      <td>1</td>\n",
       "      <td>2</td>\n",
       "      <td>113781</td>\n",
       "      <td>151.5500</td>\n",
       "      <td>C22 C26</td>\n",
       "      <td>S</td>\n",
       "    </tr>\n",
       "    <tr>\n",
       "      <th>297</th>\n",
       "      <td>298</td>\n",
       "      <td>0</td>\n",
       "      <td>1</td>\n",
       "      <td>Allison, Miss. Helen Loraine</td>\n",
       "      <td>female</td>\n",
       "      <td>2.00</td>\n",
       "      <td>1</td>\n",
       "      <td>2</td>\n",
       "      <td>113781</td>\n",
       "      <td>151.5500</td>\n",
       "      <td>C22 C26</td>\n",
       "      <td>S</td>\n",
       "    </tr>\n",
       "    <tr>\n",
       "      <th>445</th>\n",
       "      <td>446</td>\n",
       "      <td>1</td>\n",
       "      <td>1</td>\n",
       "      <td>Dodge, Master. Washington</td>\n",
       "      <td>male</td>\n",
       "      <td>4.00</td>\n",
       "      <td>0</td>\n",
       "      <td>2</td>\n",
       "      <td>33638</td>\n",
       "      <td>81.8583</td>\n",
       "      <td>A34</td>\n",
       "      <td>S</td>\n",
       "    </tr>\n",
       "    <tr>\n",
       "      <th>802</th>\n",
       "      <td>803</td>\n",
       "      <td>1</td>\n",
       "      <td>1</td>\n",
       "      <td>Carter, Master. William Thornton II</td>\n",
       "      <td>male</td>\n",
       "      <td>11.00</td>\n",
       "      <td>1</td>\n",
       "      <td>2</td>\n",
       "      <td>113760</td>\n",
       "      <td>120.0000</td>\n",
       "      <td>B96 B98</td>\n",
       "      <td>S</td>\n",
       "    </tr>\n",
       "    <tr>\n",
       "      <th>435</th>\n",
       "      <td>436</td>\n",
       "      <td>1</td>\n",
       "      <td>1</td>\n",
       "      <td>Carter, Miss. Lucile Polk</td>\n",
       "      <td>female</td>\n",
       "      <td>14.00</td>\n",
       "      <td>1</td>\n",
       "      <td>2</td>\n",
       "      <td>113760</td>\n",
       "      <td>120.0000</td>\n",
       "      <td>B96 B98</td>\n",
       "      <td>S</td>\n",
       "    </tr>\n",
       "    <tr>\n",
       "      <th>...</th>\n",
       "      <td>...</td>\n",
       "      <td>...</td>\n",
       "      <td>...</td>\n",
       "      <td>...</td>\n",
       "      <td>...</td>\n",
       "      <td>...</td>\n",
       "      <td>...</td>\n",
       "      <td>...</td>\n",
       "      <td>...</td>\n",
       "      <td>...</td>\n",
       "      <td>...</td>\n",
       "      <td>...</td>\n",
       "    </tr>\n",
       "    <tr>\n",
       "      <th>859</th>\n",
       "      <td>860</td>\n",
       "      <td>0</td>\n",
       "      <td>3</td>\n",
       "      <td>Razi, Mr. Raihed</td>\n",
       "      <td>male</td>\n",
       "      <td>NaN</td>\n",
       "      <td>0</td>\n",
       "      <td>0</td>\n",
       "      <td>2629</td>\n",
       "      <td>7.2292</td>\n",
       "      <td>NaN</td>\n",
       "      <td>C</td>\n",
       "    </tr>\n",
       "    <tr>\n",
       "      <th>863</th>\n",
       "      <td>864</td>\n",
       "      <td>0</td>\n",
       "      <td>3</td>\n",
       "      <td>Sage, Miss. Dorothy Edith \"Dolly\"</td>\n",
       "      <td>female</td>\n",
       "      <td>NaN</td>\n",
       "      <td>8</td>\n",
       "      <td>2</td>\n",
       "      <td>CA. 2343</td>\n",
       "      <td>69.5500</td>\n",
       "      <td>NaN</td>\n",
       "      <td>S</td>\n",
       "    </tr>\n",
       "    <tr>\n",
       "      <th>868</th>\n",
       "      <td>869</td>\n",
       "      <td>0</td>\n",
       "      <td>3</td>\n",
       "      <td>van Melkebeke, Mr. Philemon</td>\n",
       "      <td>male</td>\n",
       "      <td>NaN</td>\n",
       "      <td>0</td>\n",
       "      <td>0</td>\n",
       "      <td>345777</td>\n",
       "      <td>9.5000</td>\n",
       "      <td>NaN</td>\n",
       "      <td>S</td>\n",
       "    </tr>\n",
       "    <tr>\n",
       "      <th>878</th>\n",
       "      <td>879</td>\n",
       "      <td>0</td>\n",
       "      <td>3</td>\n",
       "      <td>Laleff, Mr. Kristo</td>\n",
       "      <td>male</td>\n",
       "      <td>NaN</td>\n",
       "      <td>0</td>\n",
       "      <td>0</td>\n",
       "      <td>349217</td>\n",
       "      <td>7.8958</td>\n",
       "      <td>NaN</td>\n",
       "      <td>S</td>\n",
       "    </tr>\n",
       "    <tr>\n",
       "      <th>888</th>\n",
       "      <td>889</td>\n",
       "      <td>0</td>\n",
       "      <td>3</td>\n",
       "      <td>Johnston, Miss. Catherine Helen \"Carrie\"</td>\n",
       "      <td>female</td>\n",
       "      <td>NaN</td>\n",
       "      <td>1</td>\n",
       "      <td>2</td>\n",
       "      <td>W./C. 6607</td>\n",
       "      <td>23.4500</td>\n",
       "      <td>NaN</td>\n",
       "      <td>S</td>\n",
       "    </tr>\n",
       "  </tbody>\n",
       "</table>\n",
       "<p>891 rows × 12 columns</p>\n",
       "</div>"
      ],
      "text/plain": [
       "     PassengerId  Survived  Pclass                                      Name  \\\n",
       "305          306         1       1            Allison, Master. Hudson Trevor   \n",
       "297          298         0       1              Allison, Miss. Helen Loraine   \n",
       "445          446         1       1                 Dodge, Master. Washington   \n",
       "802          803         1       1       Carter, Master. William Thornton II   \n",
       "435          436         1       1                 Carter, Miss. Lucile Polk   \n",
       "..           ...       ...     ...                                       ...   \n",
       "859          860         0       3                          Razi, Mr. Raihed   \n",
       "863          864         0       3         Sage, Miss. Dorothy Edith \"Dolly\"   \n",
       "868          869         0       3               van Melkebeke, Mr. Philemon   \n",
       "878          879         0       3                        Laleff, Mr. Kristo   \n",
       "888          889         0       3  Johnston, Miss. Catherine Helen \"Carrie\"   \n",
       "\n",
       "        Sex    Age  SibSp  Parch      Ticket      Fare    Cabin Embarked  \n",
       "305    male   0.92      1      2      113781  151.5500  C22 C26        S  \n",
       "297  female   2.00      1      2      113781  151.5500  C22 C26        S  \n",
       "445    male   4.00      0      2       33638   81.8583      A34        S  \n",
       "802    male  11.00      1      2      113760  120.0000  B96 B98        S  \n",
       "435  female  14.00      1      2      113760  120.0000  B96 B98        S  \n",
       "..      ...    ...    ...    ...         ...       ...      ...      ...  \n",
       "859    male    NaN      0      0        2629    7.2292      NaN        C  \n",
       "863  female    NaN      8      2    CA. 2343   69.5500      NaN        S  \n",
       "868    male    NaN      0      0      345777    9.5000      NaN        S  \n",
       "878    male    NaN      0      0      349217    7.8958      NaN        S  \n",
       "888  female    NaN      1      2  W./C. 6607   23.4500      NaN        S  \n",
       "\n",
       "[891 rows x 12 columns]"
      ]
     },
     "execution_count": 12,
     "metadata": {},
     "output_type": "execute_result"
    }
   ],
   "source": [
    "# Pclass 오름차순, Age 내림차순\n",
    "titanic_pdf.sort_values(\n",
    "    by = [\"Pclass\",\"Age\"],\n",
    "    ascending = [1,2])"
   ]
  },
  {
   "cell_type": "code",
   "execution_count": 15,
   "id": "329e4008",
   "metadata": {},
   "outputs": [
    {
     "name": "stdout",
     "output_type": "stream",
     "text": [
      "+-----------+--------+------+--------------------+------+----+-----+-----+----------------+-------+-----+--------+\n",
      "|PassengerId|Survived|Pclass|                Name|   Sex| Age|SibSp|Parch|          Ticket|   Fare|Cabin|Embarked|\n",
      "+-----------+--------+------+--------------------+------+----+-----+-----+----------------+-------+-----+--------+\n",
      "|         25|       0|     3|Palsson, Miss. To...|female| 8.0|    3|    1|          349909| 21.075| null|       S|\n",
      "|         47|       0|     3|   Lennon, Mr. Denis|  male|null|    1|    0|          370371|   15.5| null|       Q|\n",
      "|         26|       1|     3|Asplund, Mrs. Car...|female|38.0|    1|    5|          347077|31.3875| null|       S|\n",
      "|          3|       1|     3|Heikkinen, Miss. ...|female|26.0|    0|    0|STON/O2. 3101282|  7.925| null|       S|\n",
      "|         27|       0|     3|Emir, Mr. Farred ...|  male|null|    0|    0|            2631|  7.225| null|       C|\n",
      "|          6|       0|     3|    Moran, Mr. James|  male|null|    0|    0|          330877| 8.4583| null|       Q|\n",
      "|         29|       1|     3|\"O'Dwyer, Miss. E...|female|null|    0|    0|          330959| 7.8792| null|       Q|\n",
      "|          9|       1|     3|Johnson, Mrs. Osc...|female|27.0|    0|    2|          347742|11.1333| null|       S|\n",
      "|         30|       0|     3| Todoroff, Mr. Lalio|  male|null|    0|    0|          349216| 7.8958| null|       S|\n",
      "|         13|       0|     3|Saundercock, Mr. ...|  male|20.0|    0|    0|       A/5. 2151|   8.05| null|       S|\n",
      "|         33|       1|     3|Glynn, Miss. Mary...|female|null|    0|    0|          335677|   7.75| null|       Q|\n",
      "|         15|       0|     3|Vestrom, Miss. Hu...|female|14.0|    0|    0|          350406| 7.8542| null|       S|\n",
      "|         37|       1|     3|    Mamee, Mr. Hanna|  male|null|    0|    0|            2677| 7.2292| null|       C|\n",
      "|         19|       0|     3|Vander Planke, Mr...|female|31.0|    1|    0|          345763|   18.0| null|       S|\n",
      "|         38|       0|     3|Cann, Mr. Ernest ...|  male|21.0|    0|    0|      A./5. 2152|   8.05| null|       S|\n",
      "|         48|       1|     3|O'Driscoll, Miss....|female|null|    0|    0|           14311|   7.75| null|       Q|\n",
      "|         39|       0|     3|Vander Planke, Mi...|female|18.0|    2|    0|          345764|   18.0| null|       S|\n",
      "|          1|       0|     3|Braund, Mr. Owen ...|  male|22.0|    1|    0|       A/5 21171|   7.25| null|       S|\n",
      "|         40|       1|     3|Nicola-Yarred, Mi...|female|14.0|    1|    0|            2651|11.2417| null|       C|\n",
      "|          8|       0|     3|Palsson, Master. ...|  male| 2.0|    3|    1|          349909| 21.075| null|       S|\n",
      "+-----------+--------+------+--------------------+------+----+-----+-----+----------------+-------+-----+--------+\n",
      "only showing top 20 rows\n",
      "\n"
     ]
    }
   ],
   "source": [
    "# Spark에서는 order by를 사용\n",
    "import pyspark.sql.functions as F\n",
    "\n",
    "titanic_sdf.orderBy(\n",
    "    F.col(\"Pclass\"),\n",
    "    ascending=False\n",
    ").show()"
   ]
  },
  {
   "cell_type": "code",
   "execution_count": 18,
   "id": "5e732f92",
   "metadata": {},
   "outputs": [
    {
     "name": "stdout",
     "output_type": "stream",
     "text": [
      "+-----------+--------+------+--------------------+------+----+-----+-----+---------------+-------+-----+--------+\n",
      "|PassengerId|Survived|Pclass|                Name|   Sex| Age|SibSp|Parch|         Ticket|   Fare|Cabin|Embarked|\n",
      "+-----------+--------+------+--------------------+------+----+-----+-----+---------------+-------+-----+--------+\n",
      "|         78|       0|     3|Moutal, Mr. Raham...|  male|null|    0|    0|         374746|   8.05| null|       S|\n",
      "|        177|       0|     3|Lefebre, Master. ...|  male|null|    3|    1|           4133|25.4667| null|       S|\n",
      "|         83|       1|     3|McDermott, Miss. ...|female|null|    0|    0|         330932| 7.7875| null|       Q|\n",
      "|         77|       0|     3|   Staneff, Mr. Ivan|  male|null|    0|    0|         349208| 7.8958| null|       S|\n",
      "|         88|       0|     3|Slocovski, Mr. Se...|  male|null|    0|    0|SOTON/OQ 392086|   8.05| null|       S|\n",
      "|         37|       1|     3|    Mamee, Mr. Hanna|  male|null|    0|    0|           2677| 7.2292| null|       C|\n",
      "|         96|       0|     3|Shorney, Mr. Char...|  male|null|    0|    0|         374910|   8.05| null|       S|\n",
      "|         29|       1|     3|\"O'Dwyer, Miss. E...|female|null|    0|    0|         330959| 7.8792| null|       Q|\n",
      "|        102|       0|     3|\"Petroff, Mr. Pas...|  male|null|    0|    0|         349215| 7.8958| null|       S|\n",
      "|         33|       1|     3|Glynn, Miss. Mary...|female|null|    0|    0|         335677|   7.75| null|       Q|\n",
      "|        108|       1|     3|Moss, Mr. Albert ...|  male|null|    0|    0|         312991|  7.775| null|       S|\n",
      "|          6|       0|     3|    Moran, Mr. James|  male|null|    0|    0|         330877| 8.4583| null|       Q|\n",
      "|        110|       1|     3| Moran, Miss. Bertha|female|null|    1|    0|         371110|  24.15| null|       Q|\n",
      "|         47|       0|     3|   Lennon, Mr. Denis|  male|null|    1|    0|         370371|   15.5| null|       Q|\n",
      "|        122|       0|     3|Moore, Mr. Leonar...|  male|null|    0|    0|      A4. 54510|   8.05| null|       S|\n",
      "|        127|       0|     3| McMahon, Mr. Martin|  male|null|    0|    0|         370372|   7.75| null|       Q|\n",
      "|         43|       0|     3| Kraeff, Mr. Theodor|  male|null|    0|    0|         349253| 7.8958| null|       C|\n",
      "|        129|       1|     3|   Peter, Miss. Anna|female|null|    1|    1|           2668|22.3583|F E69|       C|\n",
      "|         27|       0|     3|Emir, Mr. Farred ...|  male|null|    0|    0|           2631|  7.225| null|       C|\n",
      "|        141|       0|     3|Boulos, Mrs. Jose...|female|null|    0|    2|           2678|15.2458| null|       C|\n",
      "+-----------+--------+------+--------------------+------+----+-----+-----+---------------+-------+-----+--------+\n",
      "only showing top 20 rows\n",
      "\n"
     ]
    }
   ],
   "source": [
    "titanic_sdf.orderBy(\n",
    "    [F.col(\"Pclass\"), F.col(\"Age\")],\n",
    "    ascending=[False,True]\n",
    ").show()"
   ]
  },
  {
   "cell_type": "code",
   "execution_count": 23,
   "id": "433bea85",
   "metadata": {},
   "outputs": [
    {
     "name": "stdout",
     "output_type": "stream",
     "text": [
      "+-----------+--------+------+--------------------+------+----+-----+-----+-----------+--------+-----------+--------+\n",
      "|PassengerId|Survived|Pclass|                Name|   Sex| Age|SibSp|Parch|     Ticket|    Fare|      Cabin|Embarked|\n",
      "+-----------+--------+------+--------------------+------+----+-----+-----+-----------+--------+-----------+--------+\n",
      "|         84|       0|     1|Carrau, Mr. Franc...|  male|28.0|    0|    0|     113059|    47.1|       null|       S|\n",
      "|        188|       1|     1|\"Romaine, Mr. Cha...|  male|45.0|    0|    0|     111428|   26.55|       null|       S|\n",
      "|         89|       1|     1|Fortune, Miss. Ma...|female|23.0|    3|    2|      19950|   263.0|C23 C25 C27|       S|\n",
      "|          4|       1|     1|Futrelle, Mrs. Ja...|female|35.0|    1|    0|     113803|    53.1|       C123|       S|\n",
      "|         93|       0|     1|Chaffee, Mr. Herb...|  male|46.0|    1|    0|W.E.P. 5734|  61.175|        E31|       S|\n",
      "|         12|       1|     1|Bonnell, Miss. El...|female|58.0|    0|    0|     113783|   26.55|       C103|       S|\n",
      "|         97|       0|     1|Goldschmidt, Mr. ...|  male|71.0|    0|    0|   PC 17754| 34.6542|         A5|       C|\n",
      "|         28|       0|     1|Fortune, Mr. Char...|  male|19.0|    3|    2|      19950|   263.0|C23 C25 C27|       S|\n",
      "|         98|       1|     1|Greenfield, Mr. W...|  male|23.0|    0|    1|   PC 17759| 63.3583|    D10 D12|       C|\n",
      "|         32|       1|     1|Spencer, Mrs. Wil...|female|null|    1|    0|   PC 17569|146.5208|        B78|       C|\n",
      "|        103|       0|     1|White, Mr. Richar...|  male|21.0|    0|    1|      35281| 77.2875|        D26|       S|\n",
      "|         36|       0|     1|Holverson, Mr. Al...|  male|42.0|    1|    0|     113789|    52.0|       null|       S|\n",
      "|        111|       0|     1|Porter, Mr. Walte...|  male|47.0|    0|    0|     110465|    52.0|       C110|       S|\n",
      "|         55|       0|     1|Ostby, Mr. Engelh...|  male|65.0|    0|    1|     113509| 61.9792|        B30|       C|\n",
      "|        119|       0|     1|Baxter, Mr. Quigg...|  male|24.0|    0|    1|   PC 17558|247.5208|    B58 B60|       C|\n",
      "|         62|       1|     1| Icard, Miss. Amelie|female|38.0|    0|    0|     113572|    80.0|        B28|    null|\n",
      "|        125|       0|     1|White, Mr. Perciv...|  male|54.0|    0|    1|      35281| 77.2875|        D26|       S|\n",
      "|         65|       0|     1|Stewart, Mr. Albe...|  male|null|    0|    0|   PC 17605| 27.7208|       null|       C|\n",
      "|        137|       1|     1|Newsom, Miss. Hel...|female|19.0|    0|    2|      11752| 26.2833|        D47|       S|\n",
      "|        140|       0|     1|  Giglio, Mr. Victor|  male|24.0|    0|    0|   PC 17593|    79.2|        B86|       C|\n",
      "+-----------+--------+------+--------------------+------+----+-----+-----+-----------+--------+-----------+--------+\n",
      "only showing top 20 rows\n",
      "\n"
     ]
    }
   ],
   "source": [
    "# orderBy와 동일한 메소드인 sort\n",
    "titanic_sdf.sort(\n",
    "    F.col(\"Pclass\").asc()\n",
    ").show()"
   ]
  },
  {
   "cell_type": "code",
   "execution_count": 32,
   "id": "66d00725",
   "metadata": {},
   "outputs": [
    {
     "name": "stdout",
     "output_type": "stream",
     "text": [
      "+------+--------------------+\n",
      "|Pclass|                Name|\n",
      "+------+--------------------+\n",
      "|     1|Young, Miss. Mari...|\n",
      "|     1|  Wright, Mr. George|\n",
      "|     1|   Woolner, Mr. Hugh|\n",
      "|     1|Williams-Lambert,...|\n",
      "|     1|Williams, Mr. Cha...|\n",
      "|     1|Widener, Mr. Harr...|\n",
      "|     1|Wick, Mrs. George...|\n",
      "|     1|Wick, Miss. Mary ...|\n",
      "|     1|White, Mr. Richar...|\n",
      "|     1|White, Mr. Perciv...|\n",
      "|     1|     Weir, Col. John|\n",
      "|     1|Warren, Mrs. Fran...|\n",
      "|     1|    Ward, Miss. Anna|\n",
      "|     1|Walker, Mr. Willi...|\n",
      "|     1|Van der hoef, Mr....|\n",
      "|     1|Uruchurtu, Don. M...|\n",
      "|     1|Thorne, Mrs. Gert...|\n",
      "|     1|Thayer, Mrs. John...|\n",
      "|     1|Thayer, Mr. John ...|\n",
      "|     1|Thayer, Mr. John ...|\n",
      "+------+--------------------+\n",
      "only showing top 20 rows\n",
      "\n"
     ]
    }
   ],
   "source": [
    "# SQL을 SPARK로 변환하기\n",
    "titanic_sdf.orderBy(\n",
    "    [F.col(\"Pclass\"),F.col(\"Name\")],\n",
    "    ascending = [True,False]\n",
    ").select(\n",
    "    [F.col(\"Pclass\"),F.col(\"Name\")]\n",
    ").show()"
   ]
  },
  {
   "cell_type": "code",
   "execution_count": 33,
   "id": "482461a2",
   "metadata": {},
   "outputs": [
    {
     "name": "stdout",
     "output_type": "stream",
     "text": [
      "+------+--------------------+\n",
      "|Pclass|                Name|\n",
      "+------+--------------------+\n",
      "|     1|Young, Miss. Mari...|\n",
      "|     1|  Wright, Mr. George|\n",
      "|     1|   Woolner, Mr. Hugh|\n",
      "|     1|Williams-Lambert,...|\n",
      "|     1|Williams, Mr. Cha...|\n",
      "|     1|Widener, Mr. Harr...|\n",
      "|     1|Wick, Mrs. George...|\n",
      "|     1|Wick, Miss. Mary ...|\n",
      "|     1|White, Mr. Richar...|\n",
      "|     1|White, Mr. Perciv...|\n",
      "|     1|     Weir, Col. John|\n",
      "|     1|Warren, Mrs. Fran...|\n",
      "|     1|    Ward, Miss. Anna|\n",
      "|     1|Walker, Mr. Willi...|\n",
      "|     1|Van der hoef, Mr....|\n",
      "|     1|Uruchurtu, Don. M...|\n",
      "|     1|Thorne, Mrs. Gert...|\n",
      "|     1|Thayer, Mrs. John...|\n",
      "|     1|Thayer, Mr. John ...|\n",
      "|     1|Thayer, Mr. John ...|\n",
      "+------+--------------------+\n",
      "only showing top 20 rows\n",
      "\n"
     ]
    }
   ],
   "source": [
    "titanic_sdf.select(\n",
    "    F.col(\"Pclass\"),F.col(\"Name\")\n",
    ").orderBy(\n",
    "    [F.col(\"Pclass\"),F.col(\"Name\")],\n",
    "    ascending=[True,False]\n",
    ").show()"
   ]
  },
  {
   "cell_type": "markdown",
   "id": "4ccfc63e",
   "metadata": {},
   "source": [
    "# Aggregation\n",
    "- spark dataframe은 `데이터프레임` 객체에서 집계 메소드가 많이 없다.\n",
    "- 집계에 관련된 메소드는 거의 대부분 `pyspark.sql.functions` 패키지에 있는 함수를 활용"
   ]
  },
  {
   "cell_type": "code",
   "execution_count": 36,
   "id": "46a6b83e",
   "metadata": {},
   "outputs": [
    {
     "ename": "AttributeError",
     "evalue": "'DataFrame' object has no attribute 'mean'",
     "output_type": "error",
     "traceback": [
      "\u001b[0;31m---------------------------------------------------------------------------\u001b[0m",
      "\u001b[0;31mAttributeError\u001b[0m                            Traceback (most recent call last)",
      "Cell \u001b[0;32mIn[36], line 1\u001b[0m\n\u001b[0;32m----> 1\u001b[0m \u001b[43mtitanic_sdf\u001b[49m\u001b[38;5;241;43m.\u001b[39;49m\u001b[43mselect\u001b[49m\u001b[43m(\u001b[49m\n\u001b[1;32m      2\u001b[0m \u001b[43m    \u001b[49m\u001b[43mF\u001b[49m\u001b[38;5;241;43m.\u001b[39;49m\u001b[43mcol\u001b[49m\u001b[43m(\u001b[49m\u001b[38;5;124;43m\"\u001b[39;49m\u001b[38;5;124;43mAge\u001b[39;49m\u001b[38;5;124;43m\"\u001b[39;49m\u001b[43m)\u001b[49m\n\u001b[1;32m      3\u001b[0m \u001b[43m)\u001b[49m\u001b[38;5;241;43m.\u001b[39;49m\u001b[43mmean\u001b[49m()\n",
      "File \u001b[0;32m~/miniconda3/envs/spark-env/lib/python3.8/site-packages/pyspark/sql/dataframe.py:1659\u001b[0m, in \u001b[0;36mDataFrame.__getattr__\u001b[0;34m(self, name)\u001b[0m\n\u001b[1;32m   1649\u001b[0m \u001b[38;5;250m\u001b[39m\u001b[38;5;124;03m\"\"\"Returns the :class:`Column` denoted by ``name``.\u001b[39;00m\n\u001b[1;32m   1650\u001b[0m \n\u001b[1;32m   1651\u001b[0m \u001b[38;5;124;03m.. versionadded:: 1.3.0\u001b[39;00m\n\u001b[0;32m   (...)\u001b[0m\n\u001b[1;32m   1656\u001b[0m \u001b[38;5;124;03m[Row(age=2), Row(age=5)]\u001b[39;00m\n\u001b[1;32m   1657\u001b[0m \u001b[38;5;124;03m\"\"\"\u001b[39;00m\n\u001b[1;32m   1658\u001b[0m \u001b[38;5;28;01mif\u001b[39;00m name \u001b[38;5;129;01mnot\u001b[39;00m \u001b[38;5;129;01min\u001b[39;00m \u001b[38;5;28mself\u001b[39m\u001b[38;5;241m.\u001b[39mcolumns:\n\u001b[0;32m-> 1659\u001b[0m     \u001b[38;5;28;01mraise\u001b[39;00m \u001b[38;5;167;01mAttributeError\u001b[39;00m(\n\u001b[1;32m   1660\u001b[0m         \u001b[38;5;124m\"\u001b[39m\u001b[38;5;124m'\u001b[39m\u001b[38;5;132;01m%s\u001b[39;00m\u001b[38;5;124m'\u001b[39m\u001b[38;5;124m object has no attribute \u001b[39m\u001b[38;5;124m'\u001b[39m\u001b[38;5;132;01m%s\u001b[39;00m\u001b[38;5;124m'\u001b[39m\u001b[38;5;124m\"\u001b[39m \u001b[38;5;241m%\u001b[39m (\u001b[38;5;28mself\u001b[39m\u001b[38;5;241m.\u001b[39m\u001b[38;5;18m__class__\u001b[39m\u001b[38;5;241m.\u001b[39m\u001b[38;5;18m__name__\u001b[39m, name))\n\u001b[1;32m   1661\u001b[0m jc \u001b[38;5;241m=\u001b[39m \u001b[38;5;28mself\u001b[39m\u001b[38;5;241m.\u001b[39m_jdf\u001b[38;5;241m.\u001b[39mapply(name)\n\u001b[1;32m   1662\u001b[0m \u001b[38;5;28;01mreturn\u001b[39;00m Column(jc)\n",
      "\u001b[0;31mAttributeError\u001b[0m: 'DataFrame' object has no attribute 'mean'"
     ]
    }
   ],
   "source": [
    "titanic_sdf.select(\n",
    "    F.col(\"Age\")\n",
    ").mean()"
   ]
  },
  {
   "cell_type": "code",
   "execution_count": 37,
   "id": "3cf19dbc",
   "metadata": {},
   "outputs": [
    {
     "data": {
      "text/plain": [
       "891"
      ]
     },
     "execution_count": 37,
     "metadata": {},
     "output_type": "execute_result"
    }
   ],
   "source": [
    "titanic_sdf.count()"
   ]
  },
  {
   "cell_type": "code",
   "execution_count": 39,
   "id": "84cbdfdb",
   "metadata": {},
   "outputs": [
    {
     "data": {
      "text/plain": [
       "PassengerId    891\n",
       "Survived       891\n",
       "Pclass         891\n",
       "Name           891\n",
       "Sex            891\n",
       "Age            714\n",
       "SibSp          891\n",
       "Parch          891\n",
       "Ticket         891\n",
       "Fare           891\n",
       "Cabin          204\n",
       "Embarked       889\n",
       "dtype: int64"
      ]
     },
     "execution_count": 39,
     "metadata": {},
     "output_type": "execute_result"
    }
   ],
   "source": [
    "titanic_pdf.count()"
   ]
  },
  {
   "cell_type": "code",
   "execution_count": 46,
   "id": "e71f9dc1",
   "metadata": {},
   "outputs": [
    {
     "name": "stdout",
     "output_type": "stream",
     "text": [
      "+--------+--------+--------+-----------------+\n",
      "|max(Age)|min(Age)|sum(Age)|         avg(Age)|\n",
      "+--------+--------+--------+-----------------+\n",
      "|    80.0|    0.42|21205.17|29.69911764705882|\n",
      "+--------+--------+--------+-----------------+\n",
      "\n"
     ]
    }
   ],
   "source": [
    "# Spark DataFrame으로 집계하기\n",
    "import pyspark.sql.functions as F\n",
    "\n",
    "titanic_sdf_agg = titanic_sdf.select(\n",
    "    F.max(F.col(\"Age\")),\n",
    "    F.min(F.col(\"Age\")),\n",
    "    F.sum(F.col(\"Age\")),\n",
    "    F.mean(F.col(\"Age\"))\n",
    ").show()"
   ]
  },
  {
   "cell_type": "markdown",
   "id": "25dc79ed",
   "metadata": {},
   "source": [
    "## groupBy"
   ]
  },
  {
   "cell_type": "code",
   "execution_count": 54,
   "id": "678e7643",
   "metadata": {},
   "outputs": [],
   "source": [
    "titanic_pdf_groupby= titanic_pdf.groupby(by=\"Pclass\")"
   ]
  },
  {
   "cell_type": "code",
   "execution_count": 55,
   "id": "c492b915",
   "metadata": {},
   "outputs": [
    {
     "data": {
      "text/html": [
       "<div>\n",
       "<style scoped>\n",
       "    .dataframe tbody tr th:only-of-type {\n",
       "        vertical-align: middle;\n",
       "    }\n",
       "\n",
       "    .dataframe tbody tr th {\n",
       "        vertical-align: top;\n",
       "    }\n",
       "\n",
       "    .dataframe thead th {\n",
       "        text-align: right;\n",
       "    }\n",
       "</style>\n",
       "<table border=\"1\" class=\"dataframe\">\n",
       "  <thead>\n",
       "    <tr style=\"text-align: right;\">\n",
       "      <th></th>\n",
       "      <th>PassengerId</th>\n",
       "      <th>Survived</th>\n",
       "      <th>Name</th>\n",
       "      <th>Sex</th>\n",
       "      <th>Age</th>\n",
       "      <th>SibSp</th>\n",
       "      <th>Parch</th>\n",
       "      <th>Ticket</th>\n",
       "      <th>Fare</th>\n",
       "      <th>Cabin</th>\n",
       "      <th>Embarked</th>\n",
       "    </tr>\n",
       "    <tr>\n",
       "      <th>Pclass</th>\n",
       "      <th></th>\n",
       "      <th></th>\n",
       "      <th></th>\n",
       "      <th></th>\n",
       "      <th></th>\n",
       "      <th></th>\n",
       "      <th></th>\n",
       "      <th></th>\n",
       "      <th></th>\n",
       "      <th></th>\n",
       "      <th></th>\n",
       "    </tr>\n",
       "  </thead>\n",
       "  <tbody>\n",
       "    <tr>\n",
       "      <th>1</th>\n",
       "      <td>216</td>\n",
       "      <td>216</td>\n",
       "      <td>216</td>\n",
       "      <td>216</td>\n",
       "      <td>186</td>\n",
       "      <td>216</td>\n",
       "      <td>216</td>\n",
       "      <td>216</td>\n",
       "      <td>216</td>\n",
       "      <td>176</td>\n",
       "      <td>214</td>\n",
       "    </tr>\n",
       "    <tr>\n",
       "      <th>2</th>\n",
       "      <td>184</td>\n",
       "      <td>184</td>\n",
       "      <td>184</td>\n",
       "      <td>184</td>\n",
       "      <td>173</td>\n",
       "      <td>184</td>\n",
       "      <td>184</td>\n",
       "      <td>184</td>\n",
       "      <td>184</td>\n",
       "      <td>16</td>\n",
       "      <td>184</td>\n",
       "    </tr>\n",
       "    <tr>\n",
       "      <th>3</th>\n",
       "      <td>491</td>\n",
       "      <td>491</td>\n",
       "      <td>491</td>\n",
       "      <td>491</td>\n",
       "      <td>355</td>\n",
       "      <td>491</td>\n",
       "      <td>491</td>\n",
       "      <td>491</td>\n",
       "      <td>491</td>\n",
       "      <td>12</td>\n",
       "      <td>491</td>\n",
       "    </tr>\n",
       "  </tbody>\n",
       "</table>\n",
       "</div>"
      ],
      "text/plain": [
       "        PassengerId  Survived  Name  Sex  Age  SibSp  Parch  Ticket  Fare  \\\n",
       "Pclass                                                                      \n",
       "1               216       216   216  216  186    216    216     216   216   \n",
       "2               184       184   184  184  173    184    184     184   184   \n",
       "3               491       491   491  491  355    491    491     491   491   \n",
       "\n",
       "        Cabin  Embarked  \n",
       "Pclass                   \n",
       "1         176       214  \n",
       "2          16       184  \n",
       "3          12       491  "
      ]
     },
     "execution_count": 55,
     "metadata": {},
     "output_type": "execute_result"
    }
   ],
   "source": [
    "titanic_pdf_groupby.count()"
   ]
  },
  {
   "cell_type": "code",
   "execution_count": 56,
   "id": "d305e5c0",
   "metadata": {},
   "outputs": [],
   "source": [
    "# 특정 컬럼에 대한 특정 ㄱ집계 연산 수행 >> Aggregation"
   ]
  },
  {
   "cell_type": "code",
   "execution_count": 57,
   "id": "b6b030c5",
   "metadata": {},
   "outputs": [
    {
     "data": {
      "text/html": [
       "<div>\n",
       "<style scoped>\n",
       "    .dataframe tbody tr th:only-of-type {\n",
       "        vertical-align: middle;\n",
       "    }\n",
       "\n",
       "    .dataframe tbody tr th {\n",
       "        vertical-align: top;\n",
       "    }\n",
       "\n",
       "    .dataframe thead th {\n",
       "        text-align: right;\n",
       "    }\n",
       "</style>\n",
       "<table border=\"1\" class=\"dataframe\">\n",
       "  <thead>\n",
       "    <tr style=\"text-align: right;\">\n",
       "      <th></th>\n",
       "      <th>Age</th>\n",
       "      <th>SibSp</th>\n",
       "      <th>Fare</th>\n",
       "    </tr>\n",
       "    <tr>\n",
       "      <th>Pclass</th>\n",
       "      <th></th>\n",
       "      <th></th>\n",
       "      <th></th>\n",
       "    </tr>\n",
       "  </thead>\n",
       "  <tbody>\n",
       "    <tr>\n",
       "      <th>1</th>\n",
       "      <td>80.0</td>\n",
       "      <td>90</td>\n",
       "      <td>84.154687</td>\n",
       "    </tr>\n",
       "    <tr>\n",
       "      <th>2</th>\n",
       "      <td>70.0</td>\n",
       "      <td>74</td>\n",
       "      <td>20.662183</td>\n",
       "    </tr>\n",
       "    <tr>\n",
       "      <th>3</th>\n",
       "      <td>74.0</td>\n",
       "      <td>302</td>\n",
       "      <td>13.675550</td>\n",
       "    </tr>\n",
       "  </tbody>\n",
       "</table>\n",
       "</div>"
      ],
      "text/plain": [
       "         Age  SibSp       Fare\n",
       "Pclass                        \n",
       "1       80.0     90  84.154687\n",
       "2       70.0     74  20.662183\n",
       "3       74.0    302  13.675550"
      ]
     },
     "execution_count": 57,
     "metadata": {},
     "output_type": "execute_result"
    }
   ],
   "source": [
    "agg_format ={\n",
    "    \"Age\":\"max\",\n",
    "    \"SibSp\" : \"sum\",\n",
    "    \"Fare\" : \"mean\"\n",
    "}\n",
    "titanic_pdf_groupby.agg(agg_format)"
   ]
  },
  {
   "cell_type": "code",
   "execution_count": 59,
   "id": "9c43f4fc",
   "metadata": {},
   "outputs": [
    {
     "name": "stdout",
     "output_type": "stream",
     "text": [
      "+------+-----+\n",
      "|Pclass|count|\n",
      "+------+-----+\n",
      "|     1|  216|\n",
      "|     3|  491|\n",
      "|     2|  184|\n",
      "+------+-----+\n",
      "\n"
     ]
    }
   ],
   "source": [
    "titanic_sdf.groupby(\n",
    "    F.col(\"Pclass\")\n",
    ").count().show()"
   ]
  },
  {
   "cell_type": "code",
   "execution_count": 62,
   "id": "69200e54",
   "metadata": {},
   "outputs": [
    {
     "name": "stdout",
     "output_type": "stream",
     "text": [
      "+------+----------------+-------------+-----------+--------+----------+----------+---------+\n",
      "|Pclass|max(PassengerId)|max(Survived)|max(Pclass)|max(Age)|max(SibSp)|max(Parch)|max(Fare)|\n",
      "+------+----------------+-------------+-----------+--------+----------+----------+---------+\n",
      "|     1|             890|            1|          1|    80.0|         3|         4| 512.3292|\n",
      "|     3|             891|            1|          3|    74.0|         8|         6|    69.55|\n",
      "|     2|             887|            1|          2|    70.0|         3|         3|     73.5|\n",
      "+------+----------------+-------------+-----------+--------+----------+----------+---------+\n",
      "\n",
      "+------+----------------+-------------+-----------+--------+----------+----------+---------+\n",
      "|Pclass|min(PassengerId)|min(Survived)|min(Pclass)|min(Age)|min(SibSp)|min(Parch)|min(Fare)|\n",
      "+------+----------------+-------------+-----------+--------+----------+----------+---------+\n",
      "|     1|               2|            0|          1|    0.92|         0|         0|      0.0|\n",
      "|     3|               1|            0|          3|    0.42|         0|         0|      0.0|\n",
      "|     2|              10|            0|          2|    0.67|         0|         0|      0.0|\n",
      "+------+----------------+-------------+-----------+--------+----------+----------+---------+\n",
      "\n"
     ]
    }
   ],
   "source": [
    "# count가 아닌 다른 집계함수를 groupby를 이용해 특정 컬럼에 적용하면 판다스데이터 프레임과 유사하게 나온다. \n",
    "titanic_sdf.groupby(\"Pclass\").max().show()\n",
    "\n",
    "titanic_sdf.groupby(\"Pclass\").min().show()"
   ]
  },
  {
   "cell_type": "code",
   "execution_count": 67,
   "id": "063c301b",
   "metadata": {},
   "outputs": [
    {
     "name": "stdout",
     "output_type": "stream",
     "text": [
      "+------+--------+\n",
      "|Pclass|max(Age)|\n",
      "+------+--------+\n",
      "|     1|    80.0|\n",
      "|     3|    74.0|\n",
      "|     2|    70.0|\n",
      "+------+--------+\n",
      "\n",
      "+------+--------+\n",
      "|Pclass|max(Age)|\n",
      "+------+--------+\n",
      "|     1|    80.0|\n",
      "|     3|    74.0|\n",
      "|     2|    70.0|\n",
      "+------+--------+\n",
      "\n"
     ]
    }
   ],
   "source": [
    "titanic_sdf.groupby(\"Pclass\").max(\"Age\").show()\n",
    "\n",
    "# 컬럼 속성을 사용할 수 없음...\n",
    "# titanic_sdf.groupby(\"Pclass\").max(F.col(\"Age\")).show()\n",
    "\n",
    "# 이렇게 컬럼 속성을 활용하는 것은 가능함\n",
    "titanic_sdf.groupby(F.col(\"Pclass\")).max(\"Age\").show()"
   ]
  },
  {
   "cell_type": "code",
   "execution_count": 71,
   "id": "3f0701ce",
   "metadata": {},
   "outputs": [
    {
     "name": "stdout",
     "output_type": "stream",
     "text": [
      "+------+--------+--------+\n",
      "|Pclass|Embarked|max(Age)|\n",
      "+------+--------+--------+\n",
      "|     3|       C|    45.5|\n",
      "|     2|       C|    36.0|\n",
      "|     1|    null|    62.0|\n",
      "|     1|       Q|    44.0|\n",
      "|     3|       Q|    70.5|\n",
      "|     2|       Q|    57.0|\n",
      "|     1|       C|    71.0|\n",
      "|     1|       S|    80.0|\n",
      "|     3|       S|    74.0|\n",
      "|     2|       S|    70.0|\n",
      "+------+--------+--------+\n",
      "\n",
      "+------+--------+--------+\n",
      "|Pclass|Embarked|max(Age)|\n",
      "+------+--------+--------+\n",
      "|     3|       C|    45.5|\n",
      "|     2|       C|    36.0|\n",
      "|     1|    null|    62.0|\n",
      "|     1|       Q|    44.0|\n",
      "|     3|       Q|    70.5|\n",
      "|     2|       Q|    57.0|\n",
      "|     1|       C|    71.0|\n",
      "|     1|       S|    80.0|\n",
      "|     3|       S|    74.0|\n",
      "|     2|       S|    70.0|\n",
      "+------+--------+--------+\n",
      "\n"
     ]
    }
   ],
   "source": [
    "# 두 개 이상의 집계기준 마련하기\n",
    "titanic_sdf.groupby(\n",
    "    [F.col(\"Pclass\"),F.col(\"Embarked\")]\n",
    ").max(\"Age\").show()\n",
    "\n",
    "# 아래 방법도 가능함\n",
    "titanic_sdf.groupby(\n",
    "    [(\"Pclass\"),(\"Embarked\")]\n",
    ").max(\"Age\").show()"
   ]
  },
  {
   "cell_type": "code",
   "execution_count": 80,
   "id": "3f4b7b32",
   "metadata": {},
   "outputs": [
    {
     "name": "stdout",
     "output_type": "stream",
     "text": [
      "+------+-------+-------+-------+------------------+\n",
      "|Pclass|Max_Age|Min_Age|Sum_Age|           Avg_Age|\n",
      "+------+-------+-------+-------+------------------+\n",
      "|     1|   80.0|   0.92|7111.42|38.233440860215055|\n",
      "|     3|   74.0|   0.42|8924.92| 25.14061971830986|\n",
      "|     2|   70.0|   0.67|5168.83| 29.87763005780347|\n",
      "+------+-------+-------+-------+------------------+\n",
      "\n",
      "+------+--------+\n",
      "|Pclass|max(Age)|\n",
      "+------+--------+\n",
      "|     1|    80.0|\n",
      "|     3|    74.0|\n",
      "|     2|    70.0|\n",
      "+------+--------+\n",
      "\n"
     ]
    }
   ],
   "source": [
    "# agg 함수 사용하기\n",
    "titanic_sdf.groupby(\"Pclass\").agg(\n",
    "    F.max(F.col(\"Age\")).alias(\"Max_Age\"),\n",
    "    F.min(F.col(\"Age\")).alias(\"Min_Age\"),\n",
    "    F.sum(F.col(\"Age\")).alias(\"Sum_Age\"),\n",
    "    F.avg(F.col(\"Age\")).alias(\"Avg_Age\")\n",
    ").show()\n",
    "\n",
    "# groupby랑 비교해봐라.,,\n",
    "titanic_sdf.groupby(\"Pclass\").max(\"Age\").show()"
   ]
  },
  {
   "cell_type": "code",
   "execution_count": 81,
   "id": "05d8dc1c",
   "metadata": {},
   "outputs": [],
   "source": [
    "spark.stop()"
   ]
  }
 ],
 "metadata": {
  "kernelspec": {
   "display_name": "Python 3 (ipykernel)",
   "language": "python",
   "name": "python3"
  },
  "language_info": {
   "codemirror_mode": {
    "name": "ipython",
    "version": 3
   },
   "file_extension": ".py",
   "mimetype": "text/x-python",
   "name": "python",
   "nbconvert_exporter": "python",
   "pygments_lexer": "ipython3",
   "version": "3.8.18"
  }
 },
 "nbformat": 4,
 "nbformat_minor": 5
}
