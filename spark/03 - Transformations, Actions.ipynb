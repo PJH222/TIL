{
 "cells": [
  {
   "cell_type": "code",
   "execution_count": 1,
   "id": "a16efb6a",
   "metadata": {},
   "outputs": [
    {
     "name": "stderr",
     "output_type": "stream",
     "text": [
      "Using Spark's default log4j profile: org/apache/spark/log4j-defaults.properties\n",
      "Setting default log level to \"WARN\".\n",
      "To adjust logging level use sc.setLogLevel(newLevel). For SparkR, use setLogLevel(newLevel).\n",
      "24/03/27 11:04:37 WARN NativeCodeLoader: Unable to load native-hadoop library for your platform... using builtin-java classes where applicable\n"
     ]
    },
    {
     "data": {
      "text/html": [
       "\n",
       "        <div>\n",
       "            <p><b>SparkContext</b></p>\n",
       "\n",
       "            <p><a href=\"http://0.0.0.0:4040\">Spark UI</a></p>\n",
       "\n",
       "            <dl>\n",
       "              <dt>Version</dt>\n",
       "                <dd><code>v3.2.4</code></dd>\n",
       "              <dt>Master</dt>\n",
       "                <dd><code>local</code></dd>\n",
       "              <dt>AppName</dt>\n",
       "                <dd><code>transformation_actions</code></dd>\n",
       "            </dl>\n",
       "        </div>\n",
       "        "
      ],
      "text/plain": [
       "<SparkContext master=local appName=transformation_actions>"
      ]
     },
     "execution_count": 1,
     "metadata": {},
     "output_type": "execute_result"
    }
   ],
   "source": [
    "from pyspark import SparkConf, SparkContext\n",
    "\n",
    "conf = SparkConf().setMaster(\"local\").setAppName(\"transformation_actions\")\n",
    "\n",
    "sc = SparkContext(conf=conf)\n",
    "sc"
   ]
  },
  {
   "cell_type": "markdown",
   "id": "3bbdb789",
   "metadata": {},
   "source": [
    "# RDD 생성\n",
    "파이썬의 리스트를 사용해서 RDD 생성 - `Parrells`"
   ]
  },
  {
   "cell_type": "code",
   "execution_count": 3,
   "id": "c498efb5",
   "metadata": {},
   "outputs": [
    {
     "data": {
      "text/plain": [
       "['짜장면',\n",
       " '짬뽕',\n",
       " '마라탕',\n",
       " '떡볶이',\n",
       " '쌀국수',\n",
       " '짬뽕',\n",
       " '짜장면',\n",
       " '짜장면',\n",
       " '짬뽕',\n",
       " '마라탕',\n",
       " '라면',\n",
       " '라면',\n",
       " '우동',\n",
       " '쌀국수']"
      ]
     },
     "execution_count": 3,
     "metadata": {},
     "output_type": "execute_result"
    }
   ],
   "source": [
    "foods = sc.parallelize([\n",
    "    \"짜장면\", \"짬뽕\", \"마라탕\",\n",
    "    \"떡볶이\", \"쌀국수\",\"짬뽕\",\n",
    "    \"짜장면\", \"짜장면\", \"짬뽕\",\n",
    "    \"마라탕\", \"라면\", \"라면\",\n",
    "    \"우동\", \"쌀국수\"\n",
    "])\n",
    "foods.collect()"
   ]
  },
  {
   "cell_type": "markdown",
   "id": "a5cea279",
   "metadata": {},
   "source": [
    "# Actions\n",
    "- 미뤄왔던 Transformation 실행하고 그 결과를 반환하는 작업\n",
    "- RDD 생성이 아닌, 실제 데이터를 출력하는 역할이다"
   ]
  },
  {
   "cell_type": "code",
   "execution_count": 5,
   "id": "e2d5b86f",
   "metadata": {},
   "outputs": [
    {
     "name": "stderr",
     "output_type": "stream",
     "text": [
      "\r",
      "[Stage 2:>                                                          (0 + 1) / 1]\r",
      "\r",
      "                                                                                \r"
     ]
    },
    {
     "data": {
      "text/plain": [
       "defaultdict(int,\n",
       "            {'짜장면': 3,\n",
       "             '짬뽕': 3,\n",
       "             '마라탕': 2,\n",
       "             '떡볶이': 1,\n",
       "             '쌀국수': 2,\n",
       "             '라면': 2,\n",
       "             '우동': 1})"
      ]
     },
     "execution_count": 5,
     "metadata": {},
     "output_type": "execute_result"
    }
   ],
   "source": [
    "# 각 원소 별 개수 세기\n",
    "foods.countByValue()"
   ]
  },
  {
   "cell_type": "code",
   "execution_count": 7,
   "id": "7a41ebb1",
   "metadata": {},
   "outputs": [
    {
     "data": {
      "text/plain": [
       "['짜장면', '짬뽕', '마라탕', '떡볶이', '쌀국수']"
      ]
     },
     "execution_count": 7,
     "metadata": {},
     "output_type": "execute_result"
    }
   ],
   "source": [
    "# 상위 n개 데이터 가져오기\n",
    "foods.take(5)"
   ]
  },
  {
   "cell_type": "code",
   "execution_count": 9,
   "id": "79aa1fff",
   "metadata": {},
   "outputs": [
    {
     "data": {
      "text/plain": [
       "['짜장면',\n",
       " '짬뽕',\n",
       " '마라탕',\n",
       " '떡볶이',\n",
       " '쌀국수',\n",
       " '짬뽕',\n",
       " '짜장면',\n",
       " '짜장면',\n",
       " '짬뽕',\n",
       " '마라탕',\n",
       " '라면',\n",
       " '라면',\n",
       " '우동',\n",
       " '쌀국수']"
      ]
     },
     "execution_count": 9,
     "metadata": {},
     "output_type": "execute_result"
    }
   ],
   "source": [
    "# 전체 데이터 가져오기\n",
    "foods.collect()"
   ]
  },
  {
   "cell_type": "code",
   "execution_count": 10,
   "id": "2ac51e96",
   "metadata": {},
   "outputs": [
    {
     "data": {
      "text/plain": [
       "14"
      ]
     },
     "execution_count": 10,
     "metadata": {},
     "output_type": "execute_result"
    }
   ],
   "source": [
    "# RDD내의 데이터 개수\n",
    "foods.count()"
   ]
  },
  {
   "cell_type": "markdown",
   "id": "4cb6be7a",
   "metadata": {},
   "source": [
    "# Narrow Transformations\n",
    "\n",
    "- 1:1 변환\n",
    "- 하나의 열을 조작하기 위해 다른 열이나 파티션의 데이터를 사용하지 않는다."
   ]
  },
  {
   "cell_type": "code",
   "execution_count": 12,
   "id": "3296ddfa",
   "metadata": {},
   "outputs": [
    {
     "data": {
      "text/plain": [
       "ParallelCollectionRDD[7] at readRDDFromFile at PythonRDD.scala:274"
      ]
     },
     "execution_count": 12,
     "metadata": {},
     "output_type": "execute_result"
    }
   ],
   "source": [
    "# map(<task>)\n",
    "# RDD 내의 데이터를 하나씩 꺼내서 '<task>'가 적용된 새로운 RDD가 만들어진다.\n",
    "\n",
    "simple_rdd = sc.parallelize([1,2,3])\n",
    "simple_rdd"
   ]
  },
  {
   "cell_type": "code",
   "execution_count": 13,
   "id": "d0a54132",
   "metadata": {},
   "outputs": [],
   "source": [
    "# task 함수에는 \"반드시\" 리턴이 있어야 한다.\n",
    "simple_rdd2 = simple_rdd.map(lambda x: x * 2)"
   ]
  },
  {
   "cell_type": "code",
   "execution_count": 15,
   "id": "8d92a7d8",
   "metadata": {},
   "outputs": [
    {
     "data": {
      "text/plain": [
       "[2, 4, 6]"
      ]
     },
     "execution_count": 15,
     "metadata": {},
     "output_type": "execute_result"
    }
   ],
   "source": [
    "simple_rdd2.collect()"
   ]
  },
  {
   "cell_type": "code",
   "execution_count": 16,
   "id": "d813b1f2",
   "metadata": {},
   "outputs": [],
   "source": [
    "# flatmap(<task>)\n",
    "# - map 함수와 매우 흡사하나, flatMap 함수는 map의 모든 결과를 1차원 배열 형식으로 평평하게 나타낸다.\n",
    "\n",
    "movies = [\n",
    "    \"그린 북\",\n",
    "    \"매트릭스\",\n",
    "    \"토이 스토리\",\n",
    "    \"캐스트 어웨이\",\n",
    "    \"포드 V 페라리\",\n",
    "    \"보헤미안 랩소디\",\n",
    "    \"빽 투 더 퓨처\",\n",
    "    \"반지의 제왕\",\n",
    "    \"죽은 시인의 사회\"\n",
    "]"
   ]
  },
  {
   "cell_type": "code",
   "execution_count": 17,
   "id": "cb804684",
   "metadata": {},
   "outputs": [
    {
     "data": {
      "text/plain": [
       "['그린 북',\n",
       " '매트릭스',\n",
       " '토이 스토리',\n",
       " '캐스트 어웨이',\n",
       " '포드 V 페라리',\n",
       " '보헤미안 랩소디',\n",
       " '빽 투 더 퓨처',\n",
       " '반지의 제왕',\n",
       " '죽은 시인의 사회']"
      ]
     },
     "execution_count": 17,
     "metadata": {},
     "output_type": "execute_result"
    }
   ],
   "source": [
    "moviesRDD = sc.parallelize(movies)\n",
    "moviesRDD.collect()"
   ]
  },
  {
   "cell_type": "code",
   "execution_count": 24,
   "id": "4dd6b50c",
   "metadata": {},
   "outputs": [
    {
     "data": {
      "text/plain": [
       "[['그린', '북'],\n",
       " ['매트릭스'],\n",
       " ['토이', '스토리'],\n",
       " ['캐스트', '어웨이'],\n",
       " ['포드', 'V', '페라리'],\n",
       " ['보헤미안', '랩소디'],\n",
       " ['빽', '투', '더', '퓨처'],\n",
       " ['반지의', '제왕'],\n",
       " ['죽은', '시인의', '사회']]"
      ]
     },
     "execution_count": 24,
     "metadata": {},
     "output_type": "execute_result"
    }
   ],
   "source": [
    "# 공백문자 기준으로 split() task 적용\n",
    "mapMovies = moviesRDD.map(lambda x : x.split())\n",
    "mapMovies.collect()"
   ]
  },
  {
   "cell_type": "code",
   "execution_count": 28,
   "id": "ba7001bd",
   "metadata": {},
   "outputs": [
    {
     "data": {
      "text/plain": [
       "['그린',\n",
       " '북',\n",
       " '매트릭스',\n",
       " '토이',\n",
       " '스토리',\n",
       " '캐스트',\n",
       " '어웨이',\n",
       " '포드',\n",
       " 'V',\n",
       " '페라리',\n",
       " '보헤미안',\n",
       " '랩소디',\n",
       " '빽',\n",
       " '투',\n",
       " '더',\n",
       " '퓨처',\n",
       " '반지의',\n",
       " '제왕',\n",
       " '죽은',\n",
       " '시인의',\n",
       " '사회']"
      ]
     },
     "execution_count": 28,
     "metadata": {},
     "output_type": "execute_result"
    }
   ],
   "source": [
    "flatMapMovies = moviesRDD.flatMap(lambda x : x.split())\n",
    "flatMapMovies.collect()"
   ]
  },
  {
   "cell_type": "code",
   "execution_count": 30,
   "id": "7fb8a6d0",
   "metadata": {},
   "outputs": [
    {
     "data": {
      "text/plain": [
       "['그린',\n",
       " '북',\n",
       " '토이',\n",
       " '스토리',\n",
       " '캐스트',\n",
       " '어웨이',\n",
       " '포드',\n",
       " 'V',\n",
       " '페라리',\n",
       " '보헤미안',\n",
       " '랩소디',\n",
       " '빽',\n",
       " '투',\n",
       " '더',\n",
       " '퓨처',\n",
       " '반지의',\n",
       " '제왕',\n",
       " '죽은',\n",
       " '시인의',\n",
       " '사회']"
      ]
     },
     "execution_count": 30,
     "metadata": {},
     "output_type": "execute_result"
    }
   ],
   "source": [
    "# task의 결과가 true 인 경우만 추출\n",
    "filtered_movies = flatMapMovies.filter(lambda x : x!=\"매트릭스\")\n",
    "filtered_movies.collect()"
   ]
  },
  {
   "cell_type": "markdown",
   "id": "f40db091",
   "metadata": {},
   "source": [
    "# Wide Transfomations\n",
    "\n",
    "- 데이터의 파티션 또는 노드가 바뀔 수 있는 변환\n",
    "- 셔플링이 일어날 수 있기 때문에 느리다."
   ]
  },
  {
   "cell_type": "code",
   "execution_count": 31,
   "id": "5a11f419",
   "metadata": {},
   "outputs": [
    {
     "data": {
      "text/plain": [
       "['짜장면',\n",
       " '짬뽕',\n",
       " '마라탕',\n",
       " '떡볶이',\n",
       " '쌀국수',\n",
       " '짬뽕',\n",
       " '짜장면',\n",
       " '짜장면',\n",
       " '짬뽕',\n",
       " '마라탕',\n",
       " '라면',\n",
       " '라면',\n",
       " '우동',\n",
       " '쌀국수',\n",
       " '짬뽕밥',\n",
       " '짬짜면',\n",
       " '볶음밥',\n",
       " '볶짬면']"
      ]
     },
     "execution_count": 31,
     "metadata": {},
     "output_type": "execute_result"
    }
   ],
   "source": [
    "foods = sc.parallelize([\n",
    "    \"짜장면\", \"짬뽕\", \"마라탕\",\n",
    "    \"떡볶이\", \"쌀국수\",\"짬뽕\",\n",
    "    \"짜장면\", \"짜장면\", \"짬뽕\",\n",
    "    \"마라탕\", \"라면\", \"라면\",\n",
    "    \"우동\", \"쌀국수\", \"짬뽕밥\", \"짬짜면\", \"볶음밥\", \"볶짬면\"\n",
    "])\n",
    "foods.collect()"
   ]
  },
  {
   "cell_type": "code",
   "execution_count": 35,
   "id": "8a5bb6a6",
   "metadata": {},
   "outputs": [
    {
     "data": {
      "text/plain": [
       "[('짜', <pyspark.resultiterable.ResultIterable at 0x7f89806a1610>),\n",
       " ('짬', <pyspark.resultiterable.ResultIterable at 0x7f89786fc070>),\n",
       " ('마', <pyspark.resultiterable.ResultIterable at 0x7f89786fc160>),\n",
       " ('떡', <pyspark.resultiterable.ResultIterable at 0x7f89786fc250>),\n",
       " ('쌀', <pyspark.resultiterable.ResultIterable at 0x7f89786fc280>),\n",
       " ('라', <pyspark.resultiterable.ResultIterable at 0x7f89786fc310>),\n",
       " ('우', <pyspark.resultiterable.ResultIterable at 0x7f89786fc3a0>),\n",
       " ('볶', <pyspark.resultiterable.ResultIterable at 0x7f89786fc400>)]"
      ]
     },
     "execution_count": 35,
     "metadata": {},
     "output_type": "execute_result"
    }
   ],
   "source": [
    "# groupBy(<task>)\n",
    "# groupBy의 task는 데이터를 묶어줄 수 있는 기준을 설정\n",
    "# 그룹핑의 기준을 각 원소의 첫 글자로 설정한다.\n",
    "foodsGroup = foods.groupBy(lambda x : x[0])\n",
    "foodsGroup.collect()"
   ]
  },
  {
   "cell_type": "code",
   "execution_count": 36,
   "id": "89aa7b1c",
   "metadata": {},
   "outputs": [
    {
     "name": "stdout",
     "output_type": "stream",
     "text": [
      "짜 ['짜장면', '짜장면', '짜장면']\n",
      "짬 ['짬뽕', '짬뽕', '짬뽕', '짬뽕밥', '짬짜면']\n",
      "마 ['마라탕', '마라탕']\n",
      "떡 ['떡볶이']\n",
      "쌀 ['쌀국수', '쌀국수']\n",
      "라 ['라면', '라면']\n",
      "우 ['우동']\n",
      "볶 ['볶음밥', '볶짬면']\n"
     ]
    }
   ],
   "source": [
    "for k,v in foodsGroup.collect(): # 이렇게 쓰면 더이상 RDD가 아님을 유의할 것\n",
    "    print(k,list(v))"
   ]
  }
 ],
 "metadata": {
  "kernelspec": {
   "display_name": "Python 3 (ipykernel)",
   "language": "python",
   "name": "python3"
  },
  "language_info": {
   "codemirror_mode": {
    "name": "ipython",
    "version": 3
   },
   "file_extension": ".py",
   "mimetype": "text/x-python",
   "name": "python",
   "nbconvert_exporter": "python",
   "pygments_lexer": "ipython3",
   "version": "3.8.18"
  }
 },
 "nbformat": 4,
 "nbformat_minor": 5
}
